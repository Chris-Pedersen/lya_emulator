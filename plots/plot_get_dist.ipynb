{
 "cells": [
  {
   "cell_type": "code",
   "execution_count": 1,
   "metadata": {},
   "outputs": [],
   "source": [
    "import numpy as np\n",
    "import matplotlib.pyplot as plt\n",
    "%matplotlib inline\n"
   ]
  },
  {
   "cell_type": "code",
   "execution_count": null,
   "metadata": {},
   "outputs": [],
   "source": [
    "posterior_samples = np.loadtxt('')\n"
   ]
  },
  {
   "cell_type": "code",
   "execution_count": null,
   "metadata": {},
   "outputs": [],
   "source": [
    "corner_plot_labels = ['dtau0', 'tau0', 'ns', 'As', 'heat-slope', 'heat-amp', 'hub']\n",
    "\n",
    "value1 = [0., 0.95, 0.974, 2.24e-09, 0.0509, 1.09, 0.685]\n"
   ]
  },
  {
   "cell_type": "code",
   "execution_count": null,
   "metadata": {},
   "outputs": [],
   "source": [
    "import getdist as gd\n",
    "import getdist.plots as gdp\n"
   ]
  },
  {
   "cell_type": "code",
   "execution_count": null,
   "metadata": {},
   "outputs": [],
   "source": [
    "posterior_MCsamples = gd.MCSamples(samples=posterior_samples, names=corner_plot_labels, labels=corner_plot_labels, label='Initial Latin hypercube')\n"
   ]
  },
  {
   "cell_type": "code",
   "execution_count": null,
   "metadata": {},
   "outputs": [],
   "source": [
    "#Big emulator\n",
    "simulation_parameters_latin = np.array([[0.9321428571428572, 2.026190476190476e-09, 0.0761904761904762, 1.1904761904761902, 0.7380952380952381], [0.9364285714285714, 1.7785714285714284e-09, -0.11428571428571432, 0.7333333333333333, 0.684], [0.945, 1.592857142857143e-09, 0.3047619047619048, 0.8857142857142857, 0.6515], [0.9878571428571429, 1.7166666666666667e-09, 0.2666666666666666, 1.2285714285714286, 0.74755], [0.9278571428571428, 2.5833333333333333e-09, 0.22857142857142854, 1.038095238095238, 0.7142857142857143], [0.9107142857142857, 2.521428571428571e-09, 0.11428571428571421, 0.6571428571428571, 0.68565], [0.9792857142857143, 2.3357142857142857e-09, 0.1523809523809524, 0.8476190476190476, 0.7285714285714285], [0.9578571428571429, 2.2738095238095236e-09, -0.038095238095238126, 1.2666666666666666, 0.7], [0.9407142857142857, 1.5309523809523808e-09, -0.2285714285714286, 0.8095238095238094, 0.6714285714285715], [0.9835714285714285, 1.8404761904761903e-09, -0.0761904761904762, 1.0761904761904761, 0.6571428571428571], [0.9707142857142858, 2.7690476190476188e-09, 0.03809523809523807, 1.1523809523809523, 0.719047619047619], [0.9535714285714286, 2.645238095238095e-09, -0.3047619047619048, 0.7714285714285714, 0.7047619047619048], [0.9664285714285714, 2.088095238095238e-09, -0.1523809523809524, 0.9999999999999999, 0.6904761904761905], [0.9235714285714286, 2.7071428571428567e-09, -0.380952380952381, 0.9619047619047618, 0.6761904761904762], [0.9021428571428571, 2.3976190476190474e-09, 0.19047619047619047, 1.1142857142857143, 0.6952380952380952], [0.9492857142857143, 1.9642857142857143e-09, -5.551115123125783e-17, 0.9238095238095237, 0.714], [0.9192857142857143, 1.6547619047619046e-09, -0.19047619047619052, 1.3428571428571427, 0.7238095238095238], [0.9064285714285715, 2.2119047619047615e-09, -0.2666666666666667, 0.6952380952380952, 0.7434], [0.9621428571428572, 2.15e-09, 0.34285714285714286, 1.380952380952381, 0.6619047619047619], [0.915, 1.9023809523809522e-09, 0.38095238095238093, 1.3047619047619046, 0.73325], [0.975, 2.459523809523809e-09, -0.34285714285714286, 0.6190476190476191, 0.6666666666666667]])\n"
   ]
  },
  {
   "cell_type": "code",
   "execution_count": null,
   "metadata": {},
   "outputs": [],
   "source": [
    "subplot_instance = gdp.getSubplotPlotter()\n",
    "\n",
    "subplot_instance.triangle_plot([posterior_MCsamples], filled=True)\n",
    "\n",
    "colour_array = np.array(['black', 'red', 'magenta', 'green', 'green', 'purple', 'turquoise', 'gray', 'red', 'blue'])\n",
    "\n",
    "for parameter_index in range(posterior_samples.shape[1]):\n",
    "    for parameter_index2 in range(parameter_index + 1):\n",
    "        ax = subplot_instance.subplots[parameter_index, parameter_index2]\n",
    "        ax.axvline(value1[parameter_index2], color='gray', ls='--', lw=0.75)\n",
    "        if parameter_index2 < parameter_index:\n",
    "            ax.axhline(value1[parameter_index], color='gray', ls='--', lw=0.75)\n",
    "            if parameter_index > 1:\n",
    "                ax.scatter(simulation_parameters_latin[:, parameter_index2 - 2], simulation_parameters_latin[:, parameter_index - 2], s=54, color=colour_array[-1], marker='+')\n",
    "\n",
    "legend_labels = ['+ Initial Latin hypercube']\n",
    "subplot_instance.add_legend(legend_labels, legend_loc='upper right', colored_text=True, figure=True)\n",
    "#'+ First refinement simulation', '+ Second refinement simulation',\n"
   ]
  },
  {
   "cell_type": "code",
   "execution_count": null,
   "metadata": {},
   "outputs": [],
   "source": []
  }
 ],
 "metadata": {
  "kernelspec": {
   "display_name": "Python 3",
   "language": "python",
   "name": "python3"
  },
  "language_info": {
   "codemirror_mode": {
    "name": "ipython",
    "version": 3
   },
   "file_extension": ".py",
   "mimetype": "text/x-python",
   "name": "python",
   "nbconvert_exporter": "python",
   "pygments_lexer": "ipython3",
   "version": "3.6.3"
  }
 },
 "nbformat": 4,
 "nbformat_minor": 2
}
