{
 "cells": [
  {
   "cell_type": "code",
   "execution_count": 1,
   "metadata": {},
   "outputs": [
    {
     "name": "stderr",
     "output_type": "stream",
     "text": [
      "/share/apps/anaconda/python3.6/lib/python3.6/site-packages/h5py/__init__.py:36: FutureWarning: Conversion of the second argument of issubdtype from `float` to `np.floating` is deprecated. In future, it will be treated as `np.float64 == np.dtype(float).type`.\n",
      "  from ._conv import register_converters as _register_converters\n"
     ]
    },
    {
     "name": "stdout",
     "output_type": "stream",
     "text": [
      "Beginning to initialise LikelihoodClass at 2018-08-30 12:10:34.857566\n"
     ]
    },
    {
     "ename": "ValueError",
     "evalue": "('Found only', 0, 'of', 11, 'from snaps:', [])",
     "output_type": "error",
     "traceback": [
      "\u001b[0;31m---------------------------------------------------------------------------\u001b[0m",
      "\u001b[0;31mValueError\u001b[0m                                Traceback (most recent call last)",
      "\u001b[0;32m~/Software/lya_emulator/main.py\u001b[0m in \u001b[0;36m<module>\u001b[0;34m()\u001b[0m\n\u001b[1;32m     37\u001b[0m                                              \u001b[0mwhile_loop\u001b[0m\u001b[0;34m=\u001b[0m\u001b[0;32mFalse\u001b[0m\u001b[0;34m,\u001b[0m \u001b[0mmean_flux_label\u001b[0m\u001b[0;34m=\u001b[0m\u001b[0;34m's'\u001b[0m\u001b[0;34m,\u001b[0m \u001b[0mreturn_class_only\u001b[0m\u001b[0;34m=\u001b[0m\u001b[0;32mTrue\u001b[0m\u001b[0;34m,\u001b[0m\u001b[0;34m\u001b[0m\u001b[0m\n\u001b[1;32m     38\u001b[0m                                              \u001b[0mrescale_data_error\u001b[0m\u001b[0;34m=\u001b[0m\u001b[0;32mTrue\u001b[0m\u001b[0;34m,\u001b[0m \u001b[0mfix_error_ratio\u001b[0m\u001b[0;34m=\u001b[0m\u001b[0;32mFalse\u001b[0m\u001b[0;34m,\u001b[0m \u001b[0merror_ratio\u001b[0m\u001b[0;34m=\u001b[0m\u001b[0;36m100.\u001b[0m\u001b[0;34m,\u001b[0m\u001b[0;34m\u001b[0m\u001b[0m\n\u001b[0;32m---> 39\u001b[0;31m                                              include_emulator_error=True)  # , max_z=2.6)\n\u001b[0m",
      "\u001b[0;32m~/Software/lya_emulator/plot_likelihood.py\u001b[0m in \u001b[0;36mrun_and_plot_likelihood_samples\u001b[0;34m(testdir, emudir, savefile, plotname, plot_posterior, plot_refinement, chain_savedir, n_walkers, n_burn_in_steps, n_steps, while_loop, mean_flux_label, return_class_only, rescale_data_error, fix_error_ratio, error_ratio, include_emulator_error, max_z)\u001b[0m\n\u001b[1;32m    244\u001b[0m     \u001b[0mchainfile\u001b[0m \u001b[0;34m=\u001b[0m \u001b[0mchain_savedir\u001b[0m \u001b[0;34m+\u001b[0m \u001b[0;34m'/AA0.97BB1.3_chain_'\u001b[0m \u001b[0;34m+\u001b[0m \u001b[0mplotname\u001b[0m \u001b[0;34m+\u001b[0m \u001b[0;34m'.txt'\u001b[0m\u001b[0;34m\u001b[0m\u001b[0m\n\u001b[1;32m    245\u001b[0m \u001b[0;34m\u001b[0m\u001b[0m\n\u001b[0;32m--> 246\u001b[0;31m     \u001b[0mlike\u001b[0m \u001b[0;34m=\u001b[0m \u001b[0mgenerate_likelihood_class\u001b[0m\u001b[0;34m(\u001b[0m\u001b[0mtestdir\u001b[0m\u001b[0;34m,\u001b[0m \u001b[0memudir\u001b[0m\u001b[0;34m,\u001b[0m \u001b[0mmean_flux_label\u001b[0m\u001b[0;34m=\u001b[0m\u001b[0mmean_flux_label\u001b[0m\u001b[0;34m,\u001b[0m \u001b[0mmax_z\u001b[0m\u001b[0;34m=\u001b[0m\u001b[0mmax_z\u001b[0m\u001b[0;34m,\u001b[0m \u001b[0mrescale_data_error\u001b[0m\u001b[0;34m=\u001b[0m\u001b[0mrescale_data_error\u001b[0m\u001b[0;34m,\u001b[0m \u001b[0mfix_error_ratio\u001b[0m\u001b[0;34m=\u001b[0m\u001b[0mfix_error_ratio\u001b[0m\u001b[0;34m,\u001b[0m \u001b[0merror_ratio\u001b[0m\u001b[0;34m=\u001b[0m\u001b[0merror_ratio\u001b[0m\u001b[0;34m)\u001b[0m\u001b[0;34m\u001b[0m\u001b[0m\n\u001b[0m\u001b[1;32m    247\u001b[0m \u001b[0;34m\u001b[0m\u001b[0m\n\u001b[1;32m    248\u001b[0m     '''if plot_refinement:\n",
      "\u001b[0;32m~/Software/lya_emulator/plot_likelihood.py\u001b[0m in \u001b[0;36mgenerate_likelihood_class\u001b[0;34m(testdir, emudir, simulation_sub_directory, mean_flux_label, max_z, rescale_data_error, fix_error_ratio, error_ratio)\u001b[0m\n\u001b[1;32m    220\u001b[0m         \u001b[0;31m#simulation_sub_directory = '/HeliumHeatAmp0.92/output'\u001b[0m\u001b[0;34m\u001b[0m\u001b[0;34m\u001b[0m\u001b[0m\n\u001b[1;32m    221\u001b[0m     \u001b[0mprint\u001b[0m\u001b[0;34m(\u001b[0m\u001b[0;34m'Beginning to initialise LikelihoodClass at'\u001b[0m\u001b[0;34m,\u001b[0m \u001b[0mstr\u001b[0m\u001b[0;34m(\u001b[0m\u001b[0mdatetime\u001b[0m\u001b[0;34m.\u001b[0m\u001b[0mnow\u001b[0m\u001b[0;34m(\u001b[0m\u001b[0;34m)\u001b[0m\u001b[0;34m)\u001b[0m\u001b[0;34m)\u001b[0m\u001b[0;34m\u001b[0m\u001b[0m\n\u001b[0;32m--> 222\u001b[0;31m     \u001b[0;32mreturn\u001b[0m \u001b[0mLikelihoodClass\u001b[0m\u001b[0;34m(\u001b[0m\u001b[0mbasedir\u001b[0m\u001b[0;34m=\u001b[0m\u001b[0memudir\u001b[0m\u001b[0;34m,\u001b[0m \u001b[0mdatadir\u001b[0m\u001b[0;34m=\u001b[0m\u001b[0mtestdir\u001b[0m\u001b[0;34m+\u001b[0m\u001b[0msimulation_sub_directory\u001b[0m\u001b[0;34m,\u001b[0m \u001b[0mmean_flux\u001b[0m\u001b[0;34m=\u001b[0m\u001b[0mmean_flux_label\u001b[0m\u001b[0;34m,\u001b[0m \u001b[0mmax_z\u001b[0m\u001b[0;34m=\u001b[0m\u001b[0mmax_z\u001b[0m\u001b[0;34m,\u001b[0m \u001b[0mrescale_data_error\u001b[0m\u001b[0;34m=\u001b[0m\u001b[0mrescale_data_error\u001b[0m\u001b[0;34m,\u001b[0m \u001b[0mfix_error_ratio\u001b[0m\u001b[0;34m=\u001b[0m\u001b[0mfix_error_ratio\u001b[0m\u001b[0;34m,\u001b[0m \u001b[0merror_ratio\u001b[0m\u001b[0;34m=\u001b[0m\u001b[0merror_ratio\u001b[0m\u001b[0;34m)\u001b[0m\u001b[0;34m\u001b[0m\u001b[0m\n\u001b[0m\u001b[1;32m    223\u001b[0m \u001b[0;34m\u001b[0m\u001b[0m\n\u001b[1;32m    224\u001b[0m \u001b[0;32mdef\u001b[0m \u001b[0mrun_and_plot_likelihood_samples\u001b[0m\u001b[0;34m(\u001b[0m\u001b[0mtestdir\u001b[0m\u001b[0;34m,\u001b[0m \u001b[0memudir\u001b[0m\u001b[0;34m,\u001b[0m \u001b[0msavefile\u001b[0m\u001b[0;34m,\u001b[0m \u001b[0mplotname\u001b[0m\u001b[0;34m,\u001b[0m \u001b[0mplot_posterior\u001b[0m\u001b[0;34m=\u001b[0m\u001b[0;32mTrue\u001b[0m\u001b[0;34m,\u001b[0m \u001b[0mplot_refinement\u001b[0m\u001b[0;34m=\u001b[0m\u001b[0;32mFalse\u001b[0m\u001b[0;34m,\u001b[0m \u001b[0mchain_savedir\u001b[0m\u001b[0;34m=\u001b[0m\u001b[0;32mNone\u001b[0m\u001b[0;34m,\u001b[0m \u001b[0mn_walkers\u001b[0m\u001b[0;34m=\u001b[0m\u001b[0;36m100\u001b[0m\u001b[0;34m,\u001b[0m \u001b[0mn_burn_in_steps\u001b[0m\u001b[0;34m=\u001b[0m\u001b[0;36m100\u001b[0m\u001b[0;34m,\u001b[0m \u001b[0mn_steps\u001b[0m\u001b[0;34m=\u001b[0m\u001b[0;36m400\u001b[0m\u001b[0;34m,\u001b[0m \u001b[0mwhile_loop\u001b[0m\u001b[0;34m=\u001b[0m\u001b[0;32mTrue\u001b[0m\u001b[0;34m,\u001b[0m \u001b[0mmean_flux_label\u001b[0m\u001b[0;34m=\u001b[0m\u001b[0;34m's'\u001b[0m\u001b[0;34m,\u001b[0m \u001b[0mreturn_class_only\u001b[0m\u001b[0;34m=\u001b[0m\u001b[0;32mFalse\u001b[0m\u001b[0;34m,\u001b[0m \u001b[0mrescale_data_error\u001b[0m\u001b[0;34m=\u001b[0m\u001b[0;32mFalse\u001b[0m\u001b[0;34m,\u001b[0m \u001b[0mfix_error_ratio\u001b[0m\u001b[0;34m=\u001b[0m\u001b[0;32mFalse\u001b[0m\u001b[0;34m,\u001b[0m \u001b[0merror_ratio\u001b[0m\u001b[0;34m=\u001b[0m\u001b[0;36m100.\u001b[0m\u001b[0;34m,\u001b[0m \u001b[0minclude_emulator_error\u001b[0m\u001b[0;34m=\u001b[0m\u001b[0;32mTrue\u001b[0m\u001b[0;34m,\u001b[0m \u001b[0mmax_z\u001b[0m\u001b[0;34m=\u001b[0m\u001b[0;36m4.2\u001b[0m\u001b[0;34m)\u001b[0m\u001b[0;34m:\u001b[0m\u001b[0;34m\u001b[0m\u001b[0m\n",
      "\u001b[0;32m~/Software/lya_emulator/likelihood.py\u001b[0m in \u001b[0;36m__init__\u001b[0;34m(self, basedir, datadir, mean_flux, max_z, t0_training_value, rescale_data_error, fix_error_ratio, error_ratio)\u001b[0m\n\u001b[1;32m     81\u001b[0m         \u001b[0mself\u001b[0m\u001b[0;34m.\u001b[0m\u001b[0mzout\u001b[0m \u001b[0;34m=\u001b[0m \u001b[0mmyspec\u001b[0m\u001b[0;34m.\u001b[0m\u001b[0mzout\u001b[0m\u001b[0;34m\u001b[0m\u001b[0m\n\u001b[1;32m     82\u001b[0m         \u001b[0;31m#print(datadir)\u001b[0m\u001b[0;34m\u001b[0m\u001b[0;34m\u001b[0m\u001b[0m\n\u001b[0;32m---> 83\u001b[0;31m         \u001b[0mpps\u001b[0m \u001b[0;34m=\u001b[0m \u001b[0mmyspec\u001b[0m\u001b[0;34m.\u001b[0m\u001b[0mget_snapshot_list\u001b[0m\u001b[0;34m(\u001b[0m\u001b[0mdatadir\u001b[0m\u001b[0;34m)\u001b[0m\u001b[0;34m\u001b[0m\u001b[0m\n\u001b[0m\u001b[1;32m     84\u001b[0m         \u001b[0mself\u001b[0m\u001b[0;34m.\u001b[0m\u001b[0mkf\u001b[0m \u001b[0;34m=\u001b[0m \u001b[0mself\u001b[0m\u001b[0;34m.\u001b[0m\u001b[0msdss\u001b[0m\u001b[0;34m.\u001b[0m\u001b[0mget_kf\u001b[0m\u001b[0;34m(\u001b[0m\u001b[0;34m)\u001b[0m\u001b[0;34m\u001b[0m\u001b[0m\n\u001b[1;32m     85\u001b[0m \u001b[0;34m\u001b[0m\u001b[0m\n",
      "\u001b[0;32m~/Software/lya_emulator/flux_power.py\u001b[0m in \u001b[0;36mget_snapshot_list\u001b[0;34m(self, base, snappref)\u001b[0m\n\u001b[1;32m    146\u001b[0m         \u001b[0;31m#Make sure we have enough outputs\u001b[0m\u001b[0;34m\u001b[0m\u001b[0;34m\u001b[0m\u001b[0m\n\u001b[1;32m    147\u001b[0m         \u001b[0;32mif\u001b[0m \u001b[0mpowerspectra\u001b[0m\u001b[0;34m.\u001b[0m\u001b[0mlen\u001b[0m\u001b[0;34m(\u001b[0m\u001b[0;34m)\u001b[0m \u001b[0;34m!=\u001b[0m \u001b[0mnp\u001b[0m\u001b[0;34m.\u001b[0m\u001b[0msize\u001b[0m\u001b[0;34m(\u001b[0m\u001b[0mself\u001b[0m\u001b[0;34m.\u001b[0m\u001b[0mzout\u001b[0m\u001b[0;34m)\u001b[0m\u001b[0;34m:\u001b[0m\u001b[0;34m\u001b[0m\u001b[0m\n\u001b[0;32m--> 148\u001b[0;31m             \u001b[0;32mraise\u001b[0m \u001b[0mValueError\u001b[0m\u001b[0;34m(\u001b[0m\u001b[0;34m\"Found only\"\u001b[0m\u001b[0;34m,\u001b[0m\u001b[0mpowerspectra\u001b[0m\u001b[0;34m.\u001b[0m\u001b[0mlen\u001b[0m\u001b[0;34m(\u001b[0m\u001b[0;34m)\u001b[0m\u001b[0;34m,\u001b[0m\u001b[0;34m\"of\"\u001b[0m\u001b[0;34m,\u001b[0m\u001b[0mnp\u001b[0m\u001b[0;34m.\u001b[0m\u001b[0msize\u001b[0m\u001b[0;34m(\u001b[0m\u001b[0mself\u001b[0m\u001b[0;34m.\u001b[0m\u001b[0mzout\u001b[0m\u001b[0;34m)\u001b[0m\u001b[0;34m,\u001b[0m\u001b[0;34m\"from snaps:\"\u001b[0m\u001b[0;34m,\u001b[0m\u001b[0mpowerspectra\u001b[0m\u001b[0;34m.\u001b[0m\u001b[0msnaps\u001b[0m\u001b[0;34m)\u001b[0m\u001b[0;34m\u001b[0m\u001b[0m\n\u001b[0m\u001b[1;32m    149\u001b[0m         \u001b[0;32mreturn\u001b[0m \u001b[0mpowerspectra\u001b[0m\u001b[0;34m\u001b[0m\u001b[0m\n\u001b[1;32m    150\u001b[0m \u001b[0;34m\u001b[0m\u001b[0m\n",
      "\u001b[0;31mValueError\u001b[0m: ('Found only', 0, 'of', 11, 'from snaps:', [])"
     ]
    }
   ],
   "source": [
    "run Software/lya_emulator/main.py Data/emulator Plots/Emulator hot_cold_training3_rescale_2000 Data/emulator"
   ]
  },
  {
   "cell_type": "code",
   "execution_count": 2,
   "metadata": {},
   "outputs": [
    {
     "name": "stdout",
     "output_type": "stream",
     "text": [
      "Beginning to initialise LikelihoodClass at 2018-08-30 12:12:54.582864\n",
      "Found spectra in <fake_spectra.spectra.Spectra object at 0x2b09af25ee80>\n",
      "Found spectra in <fake_spectra.spectra.Spectra object at 0x2b09af155ef0>\n",
      "Found spectra in <fake_spectra.spectra.Spectra object at 0x2b09af25e4a8>\n",
      "Found spectra in <fake_spectra.spectra.Spectra object at 0x2b09af08ecc0>\n",
      "Found spectra in <fake_spectra.spectra.Spectra object at 0x2b09af08ec50>\n",
      "Found spectra in <fake_spectra.spectra.Spectra object at 0x2b09af08ebe0>\n",
      "Found spectra in <fake_spectra.spectra.Spectra object at 0x2b09af08eda0>\n",
      "Found spectra in <fake_spectra.spectra.Spectra object at 0x2b09af08ee80>\n",
      "Found spectra in <fake_spectra.spectra.Spectra object at 0x2b09aef4d198>\n",
      "Found spectra in <fake_spectra.spectra.Spectra object at 0x2b09aef4d160>\n",
      "Found spectra in <fake_spectra.spectra.Spectra object at 0x2b09aef4d240>\n",
      "Found spectra in <fake_spectra.spectra.Spectra object at 0x2b09aef4d748>\n",
      "Found spectra in <fake_spectra.spectra.Spectra object at 0x2b09aef4d358>\n",
      "Found spectra in <fake_spectra.spectra.Spectra object at 0x2b09aef4d828>\n",
      "Found spectra in <fake_spectra.spectra.Spectra object at 0x2b09aef4d908>\n",
      "Found spectra in <fake_spectra.spectra.Spectra object at 0x2b09aef4da20>\n",
      "Found spectra in <fake_spectra.spectra.Spectra object at 0x2b09aef4d1d0>\n",
      "Found spectra in <fake_spectra.spectra.Spectra object at 0x2b09aef4dba8>\n",
      "Found spectra in <fake_spectra.spectra.Spectra object at 0x2b09aef4dcc0>\n",
      "Found spectra in <fake_spectra.spectra.Spectra object at 0x2b09aef4dbe0>\n",
      "Found spectra in <fake_spectra.spectra.Spectra object at 0x2b09aef4de48>\n",
      "Found spectra in <fake_spectra.spectra.Spectra object at 0x2b09aef4df60>\n",
      "Found spectra in <fake_spectra.spectra.Spectra object at 0x2b09aef4de10>\n",
      "Found spectra in <fake_spectra.spectra.Spectra object at 0x2b09af291048>\n",
      "Found spectra in <fake_spectra.spectra.Spectra object at 0x2b09af291278>\n",
      "Found spectra in <fake_spectra.spectra.Spectra object at 0x2b09af291358>\n",
      "Found spectra in <fake_spectra.spectra.Spectra object at 0x2b09af291400>\n",
      "Found spectra in <fake_spectra.spectra.Spectra object at 0x2b09af2914e0>\n",
      "Found spectra in <fake_spectra.spectra.Spectra object at 0x2b09af291438>\n",
      "Found spectra in <fake_spectra.spectra.Spectra object at 0x2b09af2916a0>\n",
      "Found spectra in <fake_spectra.spectra.Spectra object at 0x2b09af2916d8>\n",
      "Found spectra in <fake_spectra.spectra.Spectra object at 0x2b09af2917b8>\n",
      "Found spectra in <fake_spectra.spectra.Spectra object at 0x2b09af291940>\n",
      "Found spectra in <fake_spectra.spectra.Spectra object at 0x2b09af291a20>\n",
      "Found spectra in <fake_spectra.spectra.Spectra object at 0x2b09af291898>\n",
      "Found spectra in <fake_spectra.spectra.Spectra object at 0x2b09af291c18>\n",
      "Found spectra in <fake_spectra.spectra.Spectra object at 0x2b09af291cf8>\n",
      "Found spectra in <fake_spectra.spectra.Spectra object at 0x2b09af291da0>\n",
      "Found spectra in <fake_spectra.spectra.Spectra object at 0x2b09af291eb8>\n",
      "Found spectra in <fake_spectra.spectra.Spectra object at 0x2b09af291dd8>\n",
      "Found spectra in <fake_spectra.spectra.Spectra object at 0x2b09af291ef0>\n",
      "Found spectra in <fake_spectra.spectra.Spectra object at 0x2b09af571128>\n",
      "Found spectra in <fake_spectra.spectra.Spectra object at 0x2b09af571320>\n",
      "Found spectra in <fake_spectra.spectra.Spectra object at 0x2b09af5710f0>\n",
      "Found spectra in <fake_spectra.spectra.Spectra object at 0x2b09af571438>\n",
      "Found spectra in <fake_spectra.spectra.Spectra object at 0x2b09af571470>\n",
      "Found spectra in <fake_spectra.spectra.Spectra object at 0x2b09af571668>\n",
      "Found spectra in <fake_spectra.spectra.Spectra object at 0x2b09af571710>\n",
      "Found spectra in <fake_spectra.spectra.Spectra object at 0x2b09af571828>\n",
      "Found spectra in <fake_spectra.spectra.Spectra object at 0x2b09af571748>\n",
      "Found spectra in <fake_spectra.spectra.Spectra object at 0x2b09af5719b0>\n",
      "Found spectra in <fake_spectra.spectra.Spectra object at 0x2b09af571978>\n",
      "Found spectra in <fake_spectra.spectra.Spectra object at 0x2b09af571630>\n",
      "Found spectra in <fake_spectra.spectra.Spectra object at 0x2b09af571c50>\n",
      "Found spectra in <fake_spectra.spectra.Spectra object at 0x2b09af571e48>\n",
      "Found spectra in <fake_spectra.spectra.Spectra object at 0x2b09af571ac8>\n",
      "Found spectra in <fake_spectra.spectra.Spectra object at 0x2b09af571eb8>\n",
      "Found spectra in <fake_spectra.spectra.Spectra object at 0x2b09af571f28>\n",
      "Found spectra in <fake_spectra.spectra.Spectra object at 0x2b09af56a0b8>\n",
      "Found spectra in <fake_spectra.spectra.Spectra object at 0x2b09af56a208>\n",
      "Found spectra in <fake_spectra.spectra.Spectra object at 0x2b09af56a198>\n",
      "Found spectra in <fake_spectra.spectra.Spectra object at 0x2b09af56a240>\n",
      "Found spectra in <fake_spectra.spectra.Spectra object at 0x2b09af56a4a8>\n",
      "Found spectra in <fake_spectra.spectra.Spectra object at 0x2b09af56a470>\n",
      "Found spectra in <fake_spectra.spectra.Spectra object at 0x2b09af56a2e8>\n",
      "Found spectra in <fake_spectra.spectra.Spectra object at 0x2b09af56a748>\n",
      "Found spectra in <fake_spectra.spectra.Spectra object at 0x2b09af56a780>\n",
      "Found spectra in <fake_spectra.spectra.Spectra object at 0x2b09af56a978>\n",
      "Found spectra in <fake_spectra.spectra.Spectra object at 0x2b09af56aa20>\n",
      "Found spectra in <fake_spectra.spectra.Spectra object at 0x2b09af56ab00>\n",
      "Found spectra in <fake_spectra.spectra.Spectra object at 0x2b09af56aa58>\n",
      "Found spectra in <fake_spectra.spectra.Spectra object at 0x2b09af56acc0>\n",
      "Found spectra in <fake_spectra.spectra.Spectra object at 0x2b09af56add8>\n",
      "Found spectra in <fake_spectra.spectra.Spectra object at 0x2b09af56acf8>\n",
      "Found spectra in <fake_spectra.spectra.Spectra object at 0x2b09af56af60>\n",
      "Found spectra in <fake_spectra.spectra.Spectra object at 0x2b09af56af98>\n",
      "Found spectra in <fake_spectra.spectra.Spectra object at 0x2b09af561048>\n",
      "Found spectra in <fake_spectra.spectra.Spectra object at 0x2b09af561208>\n",
      "Found spectra in <fake_spectra.spectra.Spectra object at 0x2b09af561278>\n",
      "Found spectra in <fake_spectra.spectra.Spectra object at 0x2b09af561470>\n",
      "Found spectra in <fake_spectra.spectra.Spectra object at 0x2b09af561518>\n",
      "Found spectra in <fake_spectra.spectra.Spectra object at 0x2b09af561550>\n",
      "Found spectra in <fake_spectra.spectra.Spectra object at 0x2b09af561438>\n",
      "Found spectra in <fake_spectra.spectra.Spectra object at 0x2b09af5617b8>\n",
      "Found spectra in <fake_spectra.spectra.Spectra object at 0x2b09af561898>\n",
      "Found spectra in <fake_spectra.spectra.Spectra object at 0x2b09af5617f0>\n",
      "Found spectra in <fake_spectra.spectra.Spectra object at 0x2b09af561a58>\n",
      "Found spectra in <fake_spectra.spectra.Spectra object at 0x2b09af561b38>\n",
      "Found spectra in <fake_spectra.spectra.Spectra object at 0x2b09af561c50>\n",
      "Found spectra in <fake_spectra.spectra.Spectra object at 0x2b09af561d68>\n",
      "Found spectra in <fake_spectra.spectra.Spectra object at 0x2b09af561e10>\n",
      "Found spectra in <fake_spectra.spectra.Spectra object at 0x2b09af561f60>\n",
      "Found spectra in <fake_spectra.spectra.Spectra object at 0x2b09af561d30>\n",
      "Found spectra in <fake_spectra.spectra.Spectra object at 0x2b09af62e0f0>\n",
      "Found spectra in <fake_spectra.spectra.Spectra object at 0x2b09af62e198>\n",
      "Found spectra in <fake_spectra.spectra.Spectra object at 0x2b09af62e2b0>\n",
      "Found spectra in <fake_spectra.spectra.Spectra object at 0x2b09af62e390>\n",
      "Found spectra in <fake_spectra.spectra.Spectra object at 0x2b09af62e438>\n",
      "Found spectra in <fake_spectra.spectra.Spectra object at 0x2b09af62e550>\n",
      "Found spectra in <fake_spectra.spectra.Spectra object at 0x2b09af62e588>\n",
      "Found spectra in <fake_spectra.spectra.Spectra object at 0x2b09af62e6d8>\n",
      "Found spectra in <fake_spectra.spectra.Spectra object at 0x2b09af62e828>\n",
      "Found spectra in <fake_spectra.spectra.Spectra object at 0x2b09af62e710>\n",
      "Found spectra in <fake_spectra.spectra.Spectra object at 0x2b09af62e400>\n",
      "Found spectra in <fake_spectra.spectra.Spectra object at 0x2b09af62eac8>\n",
      "Found spectra in <fake_spectra.spectra.Spectra object at 0x2b09af62ebe0>\n",
      "Found spectra in <fake_spectra.spectra.Spectra object at 0x2b09af62eb00>\n",
      "Found spectra in <fake_spectra.spectra.Spectra object at 0x2b09af62ed68>\n",
      "Found spectra in <fake_spectra.spectra.Spectra object at 0x2b09af62ee48>\n",
      "Found spectra in <fake_spectra.spectra.Spectra object at 0x2b09af62ef60>\n",
      "Found spectra in <fake_spectra.spectra.Spectra object at 0x2b09af62ea90>\n",
      "Found spectra in <fake_spectra.spectra.Spectra object at 0x2b09af60d080>\n",
      "Found spectra in <fake_spectra.spectra.Spectra object at 0x2b09af60d240>\n",
      "Found spectra in <fake_spectra.spectra.Spectra object at 0x2b09af60d2e8>\n"
     ]
    },
    {
     "name": "stdout",
     "output_type": "stream",
     "text": [
      "Found spectra in <fake_spectra.spectra.Spectra object at 0x2b09af60d400>\n",
      "Found spectra in <fake_spectra.spectra.Spectra object at 0x2b09af60d358>\n",
      "Found spectra in <fake_spectra.spectra.Spectra object at 0x2b09af60d438>\n",
      "Found spectra in <fake_spectra.spectra.Spectra object at 0x2b09af60d6a0>\n",
      "Found spectra in <fake_spectra.spectra.Spectra object at 0x2b09af60d780>\n",
      "Found spectra in <fake_spectra.spectra.Spectra object at 0x2b09af60d6d8>\n",
      "Found spectra in <fake_spectra.spectra.Spectra object at 0x2b09af60d4e0>\n",
      "Found spectra in <fake_spectra.spectra.Spectra object at 0x2b09af60d9b0>\n",
      "Found spectra in <fake_spectra.spectra.Spectra object at 0x2b09af60da58>\n",
      "Found spectra in <fake_spectra.spectra.Spectra object at 0x2b09af60dc50>\n",
      "Found spectra in <fake_spectra.spectra.Spectra object at 0x2b09af60dcf8>\n",
      "Found spectra in <fake_spectra.spectra.Spectra object at 0x2b09af60ddd8>\n",
      "Found spectra in <fake_spectra.spectra.Spectra object at 0x2b09af60de48>\n",
      "Found spectra in <fake_spectra.spectra.Spectra object at 0x2b09af60df98>\n",
      "Found spectra in <fake_spectra.spectra.Spectra object at 0x2b09af60db00>\n",
      "Found spectra in <fake_spectra.spectra.Spectra object at 0x2b09af61f128>\n",
      "Found spectra in <fake_spectra.spectra.Spectra object at 0x2b09af61f278>\n",
      "Found spectra in <fake_spectra.spectra.Spectra object at 0x2b09af61f358>\n",
      "Found spectra in <fake_spectra.spectra.Spectra object at 0x2b09af61f400>\n",
      "Found spectra in <fake_spectra.spectra.Spectra object at 0x2b09af61f4e0>\n",
      "Found spectra in <fake_spectra.spectra.Spectra object at 0x2b09af61f668>\n",
      "Found spectra in <fake_spectra.spectra.Spectra object at 0x2b09af61f710>\n",
      "Found spectra in <fake_spectra.spectra.Spectra object at 0x2b09af61f7f0>\n",
      "Found spectra in <fake_spectra.spectra.Spectra object at 0x2b09af61f908>\n",
      "Found spectra in <fake_spectra.spectra.Spectra object at 0x2b09af61f9b0>\n",
      "Found spectra in <fake_spectra.spectra.Spectra object at 0x2b09af61fa90>\n",
      "Found spectra in <fake_spectra.spectra.Spectra object at 0x2b09af61fba8>\n",
      "Found spectra in <fake_spectra.spectra.Spectra object at 0x2b09af61fc50>\n",
      "Found spectra in <fake_spectra.spectra.Spectra object at 0x2b09af61fd30>\n",
      "Found spectra in <fake_spectra.spectra.Spectra object at 0x2b09af61fe48>\n",
      "Found spectra in <fake_spectra.spectra.Spectra object at 0x2b09af61feb8>\n",
      "Found spectra in <fake_spectra.spectra.Spectra object at 0x2b09af61ff60>\n",
      "Found spectra in <fake_spectra.spectra.Spectra object at 0x2b09af625080>\n",
      "Found spectra in <fake_spectra.spectra.Spectra object at 0x2b09af625208>\n",
      "Found spectra in <fake_spectra.spectra.Spectra object at 0x2b09af6252e8>\n",
      "Found spectra in <fake_spectra.spectra.Spectra object at 0x2b09af625400>\n",
      "Found spectra in <fake_spectra.spectra.Spectra object at 0x2b09af6254a8>\n",
      "Found spectra in <fake_spectra.spectra.Spectra object at 0x2b09af625588>\n",
      "Found spectra in <fake_spectra.spectra.Spectra object at 0x2b09af6256a0>\n",
      "Found spectra in <fake_spectra.spectra.Spectra object at 0x2b09af625748>\n",
      "Found spectra in <fake_spectra.spectra.Spectra object at 0x2b09af625780>\n",
      "Found spectra in <fake_spectra.spectra.Spectra object at 0x2b09af625860>\n",
      "Found spectra in <fake_spectra.spectra.Spectra object at 0x2b09af625a20>\n",
      "Found spectra in <fake_spectra.spectra.Spectra object at 0x2b09af625b00>\n",
      "Found spectra in <fake_spectra.spectra.Spectra object at 0x2b09af625ba8>\n",
      "Found spectra in <fake_spectra.spectra.Spectra object at 0x2b09af625cc0>\n",
      "Found spectra in <fake_spectra.spectra.Spectra object at 0x2b09af625da0>\n",
      "Found spectra in <fake_spectra.spectra.Spectra object at 0x2b09af625cf8>\n",
      "Found spectra in <fake_spectra.spectra.Spectra object at 0x2b09af625dd8>\n",
      "Found spectra in <fake_spectra.spectra.Spectra object at 0x2b09af625f98>\n",
      "Found spectra in <fake_spectra.spectra.Spectra object at 0x2b09af9f5160>\n",
      "Found spectra in <fake_spectra.spectra.Spectra object at 0x2b09af9f5278>\n",
      "Found spectra in <fake_spectra.spectra.Spectra object at 0x2b09af9f5358>\n",
      "Found spectra in <fake_spectra.spectra.Spectra object at 0x2b09af9f5320>\n",
      "Found spectra in <fake_spectra.spectra.Spectra object at 0x2b09af9f54a8>\n",
      "Found spectra in <fake_spectra.spectra.Spectra object at 0x2b09af9f55f8>\n",
      "Found spectra in <fake_spectra.spectra.Spectra object at 0x2b09af9f5710>\n",
      "Found spectra in <fake_spectra.spectra.Spectra object at 0x2b09af9f57b8>\n",
      "Found spectra in <fake_spectra.spectra.Spectra object at 0x2b09af9f5898>\n",
      "Found spectra in <fake_spectra.spectra.Spectra object at 0x2b09af9f59b0>\n",
      "Found spectra in <fake_spectra.spectra.Spectra object at 0x2b09af9f5a58>\n",
      "Found spectra in <fake_spectra.spectra.Spectra object at 0x2b09af9f5b38>\n",
      "Found spectra in <fake_spectra.spectra.Spectra object at 0x2b09af9f5b70>\n",
      "Found spectra in <fake_spectra.spectra.Spectra object at 0x2b09af9f5cc0>\n",
      "Found spectra in <fake_spectra.spectra.Spectra object at 0x2b09af9f5e10>\n",
      "Found spectra in <fake_spectra.spectra.Spectra object at 0x2b09af9f5f28>\n",
      "Found spectra in <fake_spectra.spectra.Spectra object at 0x2b09af9f5cf8>\n",
      "Found spectra in <fake_spectra.spectra.Spectra object at 0x2b09afa170f0>\n",
      "Found spectra in <fake_spectra.spectra.Spectra object at 0x2b09afa17208>\n",
      "Found spectra in <fake_spectra.spectra.Spectra object at 0x2b09afa172b0>\n",
      "Found spectra in <fake_spectra.spectra.Spectra object at 0x2b09afa17390>\n",
      "Found spectra in <fake_spectra.spectra.Spectra object at 0x2b09afa17470>\n",
      "Found spectra in <fake_spectra.spectra.Spectra object at 0x2b09afa175c0>\n",
      "Found spectra in <fake_spectra.spectra.Spectra object at 0x2b09afa17588>\n",
      "Found spectra in <fake_spectra.spectra.Spectra object at 0x2b09afa17668>\n",
      "Found spectra in <fake_spectra.spectra.Spectra object at 0x2b09afa172e8>\n",
      "Found spectra in <fake_spectra.spectra.Spectra object at 0x2b09afa17908>\n",
      "Found spectra in <fake_spectra.spectra.Spectra object at 0x2b09afa17a20>\n",
      "Found spectra in <fake_spectra.spectra.Spectra object at 0x2b09afa17ac8>\n",
      "Found spectra in <fake_spectra.spectra.Spectra object at 0x2b09afa17ba8>\n",
      "Found spectra in <fake_spectra.spectra.Spectra object at 0x2b09afa17c88>\n",
      "Found spectra in <fake_spectra.spectra.Spectra object at 0x2b09ae8ee5c0>\n",
      "Found spectra in <fake_spectra.spectra.Spectra object at 0x2b09ae8ee4e0>\n",
      "Found spectra in <fake_spectra.spectra.Spectra object at 0x2b09ae8ee240>\n",
      "Found spectra in <fake_spectra.spectra.Spectra object at 0x2b09ae8ee0f0>\n",
      "Found spectra in <fake_spectra.spectra.Spectra object at 0x2b09af090ef0>\n",
      "Found spectra in <fake_spectra.spectra.Spectra object at 0x2b09af090da0>\n",
      "Found spectra in <fake_spectra.spectra.Spectra object at 0x2b09af090b00>\n",
      "Found spectra in <fake_spectra.spectra.Spectra object at 0x2b09af090a58>\n",
      "Found spectra in <fake_spectra.spectra.Spectra object at 0x2b09af090978>\n",
      "Found spectra in <fake_spectra.spectra.Spectra object at 0x2b09af090860>\n",
      "Found spectra in <fake_spectra.spectra.Spectra object at 0x2b09af0907b8>\n",
      "Found spectra in <fake_spectra.spectra.Spectra object at 0x2b09af0906d8>\n",
      "Found spectra in <fake_spectra.spectra.Spectra object at 0x2b09af0905c0>\n",
      "Found spectra in <fake_spectra.spectra.Spectra object at 0x2b09af090518>\n",
      "Found spectra in <fake_spectra.spectra.Spectra object at 0x2b09af090668>\n",
      "Found spectra in <fake_spectra.spectra.Spectra object at 0x2b09af0902e8>\n",
      "Found spectra in <fake_spectra.spectra.Spectra object at 0x2b09af090240>\n",
      "Found spectra in <fake_spectra.spectra.Spectra object at 0x2b09af090160>\n",
      "Found spectra in <fake_spectra.spectra.Spectra object at 0x2b09af090400>\n",
      "Found spectra in <fake_spectra.spectra.Spectra object at 0x2b09ae8bc940>\n",
      "Found spectra in <fake_spectra.spectra.Spectra object at 0x2b09ae8bcf60>\n",
      "Found spectra in <fake_spectra.spectra.Spectra object at 0x2b09ae8bccc0>\n",
      "Found spectra in <fake_spectra.spectra.Spectra object at 0x2b09ae8bcb00>\n",
      "Found spectra in <fake_spectra.spectra.Spectra object at 0x2b09aed935f8>\n",
      "Found spectra in <fake_spectra.spectra.Spectra object at 0x2b09aed93da0>\n",
      "Found spectra in <fake_spectra.spectra.Spectra object at 0x2b09aed93ac8>\n",
      "Found spectra in <fake_spectra.spectra.Spectra object at 0x2b09aed93e10>\n",
      "Found spectra in <fake_spectra.spectra.Spectra object at 0x2b09aed935c0>\n",
      "Found spectra in <fake_spectra.spectra.Spectra object at 0x2b09aed93ef0>\n",
      "Found spectra in <fake_spectra.spectra.Spectra object at 0x2b09aed937b8>\n",
      "Found spectra in <fake_spectra.spectra.Spectra object at 0x2b09aed93f98>\n",
      "Found spectra in <fake_spectra.spectra.Spectra object at 0x2b09aed93b38>\n",
      "Found spectra in <fake_spectra.spectra.Spectra object at 0x2b09aed93b00>\n",
      "Found spectra in <fake_spectra.spectra.Spectra object at 0x2b09aed93470>\n"
     ]
    },
    {
     "name": "stdout",
     "output_type": "stream",
     "text": [
      "Found spectra in <fake_spectra.spectra.Spectra object at 0x2b09aed93358>\n",
      "Found spectra in <fake_spectra.spectra.Spectra object at 0x2b09aed93860>\n",
      "Found spectra in <fake_spectra.spectra.Spectra object at 0x2b09ae980390>\n",
      "Found spectra in <fake_spectra.spectra.Spectra object at 0x2b09aed87b70>\n",
      "Found spectra in <fake_spectra.spectra.Spectra object at 0x2b09ae73a3c8>\n",
      "Found spectra in <fake_spectra.spectra.Spectra object at 0x2b09ae72ceb8>\n",
      "Found spectra in <fake_spectra.spectra.Spectra object at 0x2b09ae72c588>\n",
      "Found spectra in <fake_spectra.spectra.Spectra object at 0x2b09af26e4a8>\n",
      "Found spectra in <fake_spectra.spectra.Spectra object at 0x2b09afa17d30>\n",
      "Found spectra in <fake_spectra.spectra.Spectra object at 0x2b09afa17e80>\n",
      "Found spectra in <fake_spectra.spectra.Spectra object at 0x2b09afa17f60>\n",
      "Found spectra in <fake_spectra.spectra.Spectra object at 0x2b09afa17eb8>\n",
      "Found spectra in <fake_spectra.spectra.Spectra object at 0x2b09af90e198>\n",
      "Number of redshifts for emulator generation = 11\n",
      "  \u001b[1mlinear.  \u001b[0;0m  |  value  |  constraints  |  priors\n",
      "  \u001b[1mvariances\u001b[0;0m  |    1.0  |      +ve      |        \n",
      "  \u001b[1msum.            \u001b[0;0m  |  value  |  constraints  |  priors\n",
      "  \u001b[1mlinear.variances\u001b[0;0m  |    1.0  |      +ve      |        \n",
      "  \u001b[1mrbf.variance    \u001b[0;0m  |    1.0  |      +ve      |        \n",
      "  \u001b[1mrbf.lengthscale \u001b[0;0m  |    1.0  |      +ve      |        \n",
      "Running L-BFGS-B (Scipy implementation) Code:\n",
      "  runtime   i      f              |g|        \n",
      "    00s01  0001  -3.763474e+04   8.572229e+07 \n",
      "    00s04  0005  -4.482093e+04   3.402223e+04 \n",
      "    00s11  0016  -4.508346e+04   1.936211e+03 \n",
      "    00s24  0040  -4.508695e+04   4.364086e-01 \n",
      "Runtime:     00s24\n",
      "Optimization status: Converged\n",
      "\n",
      "\n",
      "Name : GP regression\n",
      "Objective : -45086.95010922269\n",
      "Number of Parameters : 4\n",
      "Number of Optimization Parameters : 4\n",
      "Updates : True\n",
      "Parameters:\n",
      "  \u001b[1mGP_regression.         \u001b[0;0m  |                   value  |  constraints  |  priors\n",
      "  \u001b[1msum.linear.variances   \u001b[0;0m  |      0.6187789855773995  |      +ve      |        \n",
      "  \u001b[1msum.rbf.variance       \u001b[0;0m  |       5.539523945915312  |      +ve      |        \n",
      "  \u001b[1msum.rbf.lengthscale    \u001b[0;0m  |       2.861359929729782  |      +ve      |        \n",
      "  \u001b[1mGaussian_noise.variance\u001b[0;0m  |  1.1073993291305414e-14  |      +ve      |        \n",
      "  \u001b[1mlinear.  \u001b[0;0m  |  value  |  constraints  |  priors\n",
      "  \u001b[1mvariances\u001b[0;0m  |    1.0  |      +ve      |        \n",
      "  \u001b[1msum.            \u001b[0;0m  |  value  |  constraints  |  priors\n",
      "  \u001b[1mlinear.variances\u001b[0;0m  |    1.0  |      +ve      |        \n",
      "  \u001b[1mrbf.variance    \u001b[0;0m  |    1.0  |      +ve      |        \n",
      "  \u001b[1mrbf.lengthscale \u001b[0;0m  |    1.0  |      +ve      |        \n",
      "Running L-BFGS-B (Scipy implementation) Code:\n",
      "  runtime   i      f              |g|        \n",
      "    00s03  0006  -4.525808e+04   3.845369e+04 \n",
      "    00s11  0019  -4.546438e+04   5.090726e+02 \n",
      "    00s18  0031  -4.546829e+04   5.965861e-01 \n",
      "    00s26  0046  -4.546848e+04   8.498499e-01 \n",
      "Runtime:     00s26\n",
      "Optimization status: Converged\n",
      "\n",
      "\n",
      "Name : GP regression\n",
      "Objective : -45468.476995762125\n",
      "Number of Parameters : 4\n",
      "Number of Optimization Parameters : 4\n",
      "Updates : True\n",
      "Parameters:\n",
      "  \u001b[1mGP_regression.         \u001b[0;0m  |                  value  |  constraints  |  priors\n",
      "  \u001b[1msum.linear.variances   \u001b[0;0m  |     0.4577897637904081  |      +ve      |        \n",
      "  \u001b[1msum.rbf.variance       \u001b[0;0m  |      4.167681043159995  |      +ve      |        \n",
      "  \u001b[1msum.rbf.lengthscale    \u001b[0;0m  |      2.846489101151317  |      +ve      |        \n",
      "  \u001b[1mGaussian_noise.variance\u001b[0;0m  |  4.319024752352605e-16  |      +ve      |        \n",
      "  \u001b[1mlinear.  \u001b[0;0m  |  value  |  constraints  |  priors\n",
      "  \u001b[1mvariances\u001b[0;0m  |    1.0  |      +ve      |        \n",
      "  \u001b[1msum.            \u001b[0;0m  |  value  |  constraints  |  priors\n",
      "  \u001b[1mlinear.variances\u001b[0;0m  |    1.0  |      +ve      |        \n",
      "  \u001b[1mrbf.variance    \u001b[0;0m  |    1.0  |      +ve      |        \n",
      "  \u001b[1mrbf.lengthscale \u001b[0;0m  |    1.0  |      +ve      |        \n",
      "Running L-BFGS-B (Scipy implementation) Code:\n",
      "  runtime   i      f              |g|        \n",
      "    00s02  0004  -4.559362e+04   5.410705e+04 \n",
      "    00s07  0013  -4.576503e+04   4.841052e+02 \n",
      "    00s19  0034  -4.577517e+04   3.704213e+00 \n",
      "    00s25  0045  -4.577526e+04   3.255950e-02 \n",
      "Runtime:     00s25\n",
      "Optimization status: Converged\n",
      "\n",
      "\n",
      "Name : GP regression\n",
      "Objective : -45775.2626498537\n",
      "Number of Parameters : 4\n",
      "Number of Optimization Parameters : 4\n",
      "Updates : True\n",
      "Parameters:\n",
      "  \u001b[1mGP_regression.         \u001b[0;0m  |                  value  |  constraints  |  priors\n",
      "  \u001b[1msum.linear.variances   \u001b[0;0m  |    0.38285210829048644  |      +ve      |        \n",
      "  \u001b[1msum.rbf.variance       \u001b[0;0m  |      3.235626013616999  |      +ve      |        \n",
      "  \u001b[1msum.rbf.lengthscale    \u001b[0;0m  |      2.825465247144597  |      +ve      |        \n",
      "  \u001b[1mGaussian_noise.variance\u001b[0;0m  |  4.451847808068355e-15  |      +ve      |        \n",
      "  \u001b[1mlinear.  \u001b[0;0m  |  value  |  constraints  |  priors\n",
      "  \u001b[1mvariances\u001b[0;0m  |    1.0  |      +ve      |        \n",
      "  \u001b[1msum.            \u001b[0;0m  |  value  |  constraints  |  priors\n",
      "  \u001b[1mlinear.variances\u001b[0;0m  |    1.0  |      +ve      |        \n",
      "  \u001b[1mrbf.variance    \u001b[0;0m  |    1.0  |      +ve      |        \n",
      "  \u001b[1mrbf.lengthscale \u001b[0;0m  |    1.0  |      +ve      |        \n",
      "Running L-BFGS-B (Scipy implementation) Code:\n",
      "  runtime   i      f              |g|        \n",
      "    00s01  0002  -4.420587e+04   1.618514e+07 \n",
      "    00s06  0011  -4.594540e+04   6.318534e+03 \n",
      "    00s18  0033  -4.596155e+04   7.431576e-01 \n",
      "    00s19  0034  -4.596156e+04   1.496949e-01 \n",
      "    00s40  0077  -4.596156e+04   1.346917e-03 \n",
      "Runtime:     00s40\n",
      "Optimization status: Converged\n",
      "\n",
      "\n",
      "Name : GP regression\n",
      "Objective : -45961.559298082066\n",
      "Number of Parameters : 4\n",
      "Number of Optimization Parameters : 4\n",
      "Updates : True\n",
      "Parameters:\n",
      "  \u001b[1mGP_regression.         \u001b[0;0m  |                   value  |  constraints  |  priors\n",
      "  \u001b[1msum.linear.variances   \u001b[0;0m  |     0.26581512889779646  |      +ve      |        \n",
      "  \u001b[1msum.rbf.variance       \u001b[0;0m  |      3.1697267551431247  |      +ve      |        \n",
      "  \u001b[1msum.rbf.lengthscale    \u001b[0;0m  |        2.87262811204543  |      +ve      |        \n",
      "  \u001b[1mGaussian_noise.variance\u001b[0;0m  |  3.1992784659547766e-15  |      +ve      |        \n",
      "  \u001b[1mlinear.  \u001b[0;0m  |  value  |  constraints  |  priors\n",
      "  \u001b[1mvariances\u001b[0;0m  |    1.0  |      +ve      |        \n",
      "  \u001b[1msum.            \u001b[0;0m  |  value  |  constraints  |  priors\n",
      "  \u001b[1mlinear.variances\u001b[0;0m  |    1.0  |      +ve      |        \n",
      "  \u001b[1mrbf.variance    \u001b[0;0m  |    1.0  |      +ve      |        \n",
      "  \u001b[1mrbf.lengthscale \u001b[0;0m  |    1.0  |      +ve      |        \n",
      "Running L-BFGS-B (Scipy implementation) Code:\n",
      "  runtime   i      f              |g|        \n",
      "    00s02  0004  -4.595895e+04   1.326244e+04 \n",
      "    00s07  0013  -4.610968e+04   4.240542e+03 \n",
      "    00s18  0032  -4.612213e+04   6.670191e-01 \n",
      "    00s22  0039  -4.612214e+04   5.577915e-04 \n",
      "Runtime:     00s22\n",
      "Optimization status: Converged\n",
      "\n",
      "\n",
      "Name : GP regression\n",
      "Objective : -46122.13569664815\n",
      "Number of Parameters : 4\n",
      "Number of Optimization Parameters : 4\n",
      "Updates : True\n",
      "Parameters:\n",
      "  \u001b[1mGP_regression.         \u001b[0;0m  |                  value  |  constraints  |  priors\n",
      "  \u001b[1msum.linear.variances   \u001b[0;0m  |    0.19360763980830417  |      +ve      |        \n",
      "  \u001b[1msum.rbf.variance       \u001b[0;0m  |       2.35189898732077  |      +ve      |        \n",
      "  \u001b[1msum.rbf.lengthscale    \u001b[0;0m  |     2.8043328567677688  |      +ve      |        \n",
      "  \u001b[1mGaussian_noise.variance\u001b[0;0m  |  5.805863722406968e-16  |      +ve      |        \n",
      "  \u001b[1mlinear.  \u001b[0;0m  |  value  |  constraints  |  priors\n",
      "  \u001b[1mvariances\u001b[0;0m  |    1.0  |      +ve      |        \n",
      "  \u001b[1msum.            \u001b[0;0m  |  value  |  constraints  |  priors\n",
      "  \u001b[1mlinear.variances\u001b[0;0m  |    1.0  |      +ve      |        \n",
      "  \u001b[1mrbf.variance    \u001b[0;0m  |    1.0  |      +ve      |        \n",
      "  \u001b[1mrbf.lengthscale \u001b[0;0m  |    1.0  |      +ve      |        \n",
      "Running L-BFGS-B (Scipy implementation) Code:\n",
      "  runtime   i      f              |g|        \n",
      "    00s02  0004  -4.619380e+04   1.080434e+04 \n",
      "    00s08  0015  -4.634348e+04   1.524957e+02 \n",
      "    00s14  0025  -4.634850e+04   2.890754e+00 \n"
     ]
    },
    {
     "name": "stdout",
     "output_type": "stream",
     "text": [
      "    00s19  0034  -4.634853e+04   1.705526e-01 \n",
      "Runtime:     00s19\n",
      "Optimization status: Converged\n",
      "\n",
      "\n",
      "Name : GP regression\n",
      "Objective : -46348.532948396605\n",
      "Number of Parameters : 4\n",
      "Number of Optimization Parameters : 4\n",
      "Updates : True\n",
      "Parameters:\n",
      "  \u001b[1mGP_regression.         \u001b[0;0m  |                   value  |  constraints  |  priors\n",
      "  \u001b[1msum.linear.variances   \u001b[0;0m  |     0.15692023709859426  |      +ve      |        \n",
      "  \u001b[1msum.rbf.variance       \u001b[0;0m  |      1.9780693516324097  |      +ve      |        \n",
      "  \u001b[1msum.rbf.lengthscale    \u001b[0;0m  |       2.801855309983526  |      +ve      |        \n",
      "  \u001b[1mGaussian_noise.variance\u001b[0;0m  |  2.2240003286210697e-15  |      +ve      |        \n",
      "  \u001b[1mlinear.  \u001b[0;0m  |  value  |  constraints  |  priors\n",
      "  \u001b[1mvariances\u001b[0;0m  |    1.0  |      +ve      |        \n",
      "  \u001b[1msum.            \u001b[0;0m  |  value  |  constraints  |  priors\n",
      "  \u001b[1mlinear.variances\u001b[0;0m  |    1.0  |      +ve      |        \n",
      "  \u001b[1mrbf.variance    \u001b[0;0m  |    1.0  |      +ve      |        \n",
      "  \u001b[1mrbf.lengthscale \u001b[0;0m  |    1.0  |      +ve      |        \n",
      "Running L-BFGS-B (Scipy implementation) Code:\n",
      "  runtime   i      f              |g|        \n",
      "    00s03  0006  -4.618495e+04   8.627770e+04 \n",
      "    00s11  0020  -4.628950e+04   5.498759e+03 \n",
      "    00s16  0028  -4.629320e+04   1.600378e+00 \n",
      "    00s22  0039  -4.629322e+04   1.495166e-02 \n",
      "Runtime:     00s22\n",
      "Optimization status: Converged\n",
      "\n",
      "\n",
      "Name : GP regression\n",
      "Objective : -46293.216064820124\n",
      "Number of Parameters : 4\n",
      "Number of Optimization Parameters : 4\n",
      "Updates : True\n",
      "Parameters:\n",
      "  \u001b[1mGP_regression.         \u001b[0;0m  |                  value  |  constraints  |  priors\n",
      "  \u001b[1msum.linear.variances   \u001b[0;0m  |    0.13443352491185356  |      +ve      |        \n",
      "  \u001b[1msum.rbf.variance       \u001b[0;0m  |     1.3540680257134166  |      +ve      |        \n",
      "  \u001b[1msum.rbf.lengthscale    \u001b[0;0m  |     2.6063362431792974  |      +ve      |        \n",
      "  \u001b[1mGaussian_noise.variance\u001b[0;0m  |  4.312964244656866e-16  |      +ve      |        \n",
      "  \u001b[1mlinear.  \u001b[0;0m  |  value  |  constraints  |  priors\n",
      "  \u001b[1mvariances\u001b[0;0m  |    1.0  |      +ve      |        \n",
      "  \u001b[1msum.            \u001b[0;0m  |  value  |  constraints  |  priors\n",
      "  \u001b[1mlinear.variances\u001b[0;0m  |    1.0  |      +ve      |        \n",
      "  \u001b[1mrbf.variance    \u001b[0;0m  |    1.0  |      +ve      |        \n",
      "  \u001b[1mrbf.lengthscale \u001b[0;0m  |    1.0  |      +ve      |        \n",
      "Running L-BFGS-B (Scipy implementation) Code:\n",
      "  runtime   i      f              |g|        \n",
      "    00s02  0004  -4.634643e+04   9.212056e+03 \n",
      "    00s07  0013  -4.645245e+04   2.103723e+04 \n",
      "    00s19  0034  -4.648028e+04   2.719325e-01 \n",
      "    00s42  0083  -4.648029e+04   1.549127e-05 \n",
      "Runtime:     00s42\n",
      "Optimization status: Errorb'ABNORMAL_TERMINATION_IN_LNSRCH'\n",
      "\n",
      "\n",
      "Name : GP regression\n",
      "Objective : -46480.28586536173\n",
      "Number of Parameters : 4\n",
      "Number of Optimization Parameters : 4\n",
      "Updates : True\n",
      "Parameters:\n",
      "  \u001b[1mGP_regression.         \u001b[0;0m  |                   value  |  constraints  |  priors\n",
      "  \u001b[1msum.linear.variances   \u001b[0;0m  |     0.12156449408341807  |      +ve      |        \n",
      "  \u001b[1msum.rbf.variance       \u001b[0;0m  |       1.156618018938905  |      +ve      |        \n",
      "  \u001b[1msum.rbf.lengthscale    \u001b[0;0m  |       2.600120993259106  |      +ve      |        \n",
      "  \u001b[1mGaussian_noise.variance\u001b[0;0m  |  4.2654250084845305e-16  |      +ve      |        \n",
      "  \u001b[1mlinear.  \u001b[0;0m  |  value  |  constraints  |  priors\n",
      "  \u001b[1mvariances\u001b[0;0m  |    1.0  |      +ve      |        \n",
      "  \u001b[1msum.            \u001b[0;0m  |  value  |  constraints  |  priors\n",
      "  \u001b[1mlinear.variances\u001b[0;0m  |    1.0  |      +ve      |        \n",
      "  \u001b[1mrbf.variance    \u001b[0;0m  |    1.0  |      +ve      |        \n",
      "  \u001b[1mrbf.lengthscale \u001b[0;0m  |    1.0  |      +ve      |        \n",
      "Running L-BFGS-B (Scipy implementation) Code:\n",
      "  runtime   i      f              |g|        \n",
      "    00s02  0005  -4.632558e+04   2.562727e+04 \n",
      "    00s09  0017  -4.644468e+04   1.488535e+02 \n",
      "    00s17  0030  -4.645033e+04   2.399292e-01 \n",
      "    00s22  0040  -4.645034e+04   2.849463e-05 \n",
      "Runtime:     00s22\n",
      "Optimization status: Converged\n",
      "\n",
      "\n",
      "Name : GP regression\n",
      "Objective : -46450.34462919588\n",
      "Number of Parameters : 4\n",
      "Number of Optimization Parameters : 4\n",
      "Updates : True\n",
      "Parameters:\n",
      "  \u001b[1mGP_regression.         \u001b[0;0m  |                   value  |  constraints  |  priors\n",
      "  \u001b[1msum.linear.variances   \u001b[0;0m  |      0.1214175143274659  |      +ve      |        \n",
      "  \u001b[1msum.rbf.variance       \u001b[0;0m  |      1.0492369770583068  |      +ve      |        \n",
      "  \u001b[1msum.rbf.lengthscale    \u001b[0;0m  |       2.535845105527024  |      +ve      |        \n",
      "  \u001b[1mGaussian_noise.variance\u001b[0;0m  |  4.1783875046787964e-16  |      +ve      |        \n",
      "  \u001b[1mlinear.  \u001b[0;0m  |  value  |  constraints  |  priors\n",
      "  \u001b[1mvariances\u001b[0;0m  |    1.0  |      +ve      |        \n",
      "  \u001b[1msum.            \u001b[0;0m  |  value  |  constraints  |  priors\n",
      "  \u001b[1mlinear.variances\u001b[0;0m  |    1.0  |      +ve      |        \n",
      "  \u001b[1mrbf.variance    \u001b[0;0m  |    1.0  |      +ve      |        \n",
      "  \u001b[1mrbf.lengthscale \u001b[0;0m  |    1.0  |      +ve      |        \n",
      "Running L-BFGS-B (Scipy implementation) Code:\n",
      "  runtime   i      f              |g|        \n",
      "    00s01  0003  -4.590629e+04   4.453076e+05 \n",
      "    00s07  0013  -4.605324e+04   1.998304e+03 \n",
      "    00s20  0036  -4.607284e+04   5.741636e-01 \n",
      "Runtime:     00s20\n",
      "Optimization status: Converged\n",
      "\n",
      "\n",
      "Name : GP regression\n",
      "Objective : -46072.83982592856\n",
      "Number of Parameters : 4\n",
      "Number of Optimization Parameters : 4\n",
      "Updates : True\n",
      "Parameters:\n",
      "  \u001b[1mGP_regression.         \u001b[0;0m  |                   value  |  constraints  |  priors\n",
      "  \u001b[1msum.linear.variances   \u001b[0;0m  |     0.11155795677271736  |      +ve      |        \n",
      "  \u001b[1msum.rbf.variance       \u001b[0;0m  |       1.228866349233259  |      +ve      |        \n",
      "  \u001b[1msum.rbf.lengthscale    \u001b[0;0m  |      2.4743374048760782  |      +ve      |        \n",
      "  \u001b[1mGaussian_noise.variance\u001b[0;0m  |  1.5926267319759932e-14  |      +ve      |        \n",
      "  \u001b[1mlinear.  \u001b[0;0m  |  value  |  constraints  |  priors\n",
      "  \u001b[1mvariances\u001b[0;0m  |    1.0  |      +ve      |        \n",
      "  \u001b[1msum.            \u001b[0;0m  |  value  |  constraints  |  priors\n",
      "  \u001b[1mlinear.variances\u001b[0;0m  |    1.0  |      +ve      |        \n",
      "  \u001b[1mrbf.variance    \u001b[0;0m  |    1.0  |      +ve      |        \n",
      "  \u001b[1mrbf.lengthscale \u001b[0;0m  |    1.0  |      +ve      |        \n",
      "Running L-BFGS-B (Scipy implementation) Code:\n",
      "  runtime   i      f              |g|        \n",
      "    00s03  0006  -4.543326e+04   1.371550e+04 \n",
      "    00s10  0019  -4.564194e+04   2.186925e+02 \n",
      "    00s15  0027  -4.564316e+04   1.341870e-02 \n",
      "    00s20  0036  -4.564317e+04   5.076235e-02 \n",
      "Runtime:     00s20\n",
      "Optimization status: Converged\n",
      "\n",
      "\n",
      "Name : GP regression\n",
      "Objective : -45643.1706074974\n",
      "Number of Parameters : 4\n",
      "Number of Optimization Parameters : 4\n",
      "Updates : True\n",
      "Parameters:\n",
      "  \u001b[1mGP_regression.         \u001b[0;0m  |                  value  |  constraints  |  priors\n",
      "  \u001b[1msum.linear.variances   \u001b[0;0m  |    0.07421345066046223  |      +ve      |        \n",
      "  \u001b[1msum.rbf.variance       \u001b[0;0m  |     2.5286192430998957  |      +ve      |        \n",
      "  \u001b[1msum.rbf.lengthscale    \u001b[0;0m  |     2.6301116887033653  |      +ve      |        \n",
      "  \u001b[1mGaussian_noise.variance\u001b[0;0m  |  2.813575124912381e-14  |      +ve      |        \n"
     ]
    }
   ],
   "source": [
    "run Software/lya_emulator/main.py /share/hypatia/sbird/Lya_Boss Plots/Emulator hires_s8_new Data/emulator"
   ]
  },
  {
   "cell_type": "code",
   "execution_count": 3,
   "metadata": {},
   "outputs": [],
   "source": [
    "import seaborn as sb\n",
    "import matplotlib.pyplot as plt"
   ]
  },
  {
   "cell_type": "code",
   "execution_count": 4,
   "metadata": {},
   "outputs": [],
   "source": [
    "%matplotlib inline"
   ]
  },
  {
   "cell_type": "code",
   "execution_count": null,
   "metadata": {},
   "outputs": [],
   "source": [
    "output[0].param_limits"
   ]
  },
  {
   "cell_type": "code",
   "execution_count": null,
   "metadata": {},
   "outputs": [],
   "source": [
    "acquisition_function_tau0_amp = output.make_grid_acquisition_function(1, 2, samples=30000, nu=1., exploitation_weight=0.)\n",
    "acquisition_function_tau0_amp[acquisition_function_tau0_amp == 0.] = np.nan"
   ]
  },
  {
   "cell_type": "code",
   "execution_count": null,
   "metadata": {},
   "outputs": [],
   "source": [
    "acquisition_function_tau0_amp_exploit = output.make_grid_acquisition_function(0, 2, samples=1000, nu=0., exploitation_weight=1.)\n",
    "acquisition_function_tau0_amp_exploit[acquisition_function_tau0_amp_exploit == 0.] = np.nan"
   ]
  },
  {
   "cell_type": "code",
   "execution_count": null,
   "metadata": {},
   "outputs": [],
   "source": [
    "plt.contour(np.log10(acquisition_function_tau0_amp).T, 100, extent=[0.75, 1.25, 0.8, 1.2], origin='image')\n",
    "plt.colorbar()"
   ]
  },
  {
   "cell_type": "code",
   "execution_count": null,
   "metadata": {},
   "outputs": [],
   "source": [
    "plt.imshow(np.exp(acquisition_function_tau0_amp).T, extent=[-0.25, 0.25, 0.8, 1.2])\n",
    "plt.colorbar()"
   ]
  },
  {
   "cell_type": "code",
   "execution_count": null,
   "metadata": {
    "scrolled": true
   },
   "outputs": [],
   "source": [
    "plt.figure(figsize=(18, 18))\n",
    "plt.imshow(np.exp(acquisition_function_tau0_amp_exploit - np.nanmax(acquisition_function_tau0_amp_exploit)).T, extent=[-0.25, 0.25, 0.8, 1.2])\n",
    "plt.colorbar()\n",
    "#plt.scatter(0.95, 0.95, color='red')"
   ]
  },
  {
   "cell_type": "code",
   "execution_count": null,
   "metadata": {},
   "outputs": [],
   "source": [
    "acquisition_function_exploit = output.acquisition_function_GP_UCB_marginalised_mean_flux(np.array([0.95,]), nu=1., exploitation_weight=0.)\n",
    "acquisition_function_exploit = output.acquisition_function_GP_UCB_marginalised_mean_flux(np.array([0.9,]), nu=1., exploitation_weight=0.)\n",
    "acquisition_function_exploit = output.acquisition_function_GP_UCB_marginalised_mean_flux(np.array([1.,]), nu=1., exploitation_weight=0.)"
   ]
  },
  {
   "cell_type": "code",
   "execution_count": null,
   "metadata": {},
   "outputs": [],
   "source": [
    "acquisition_function_exploit = output.acquisition_function_GP_UCB_marginalised_mean_flux(np.array([0.95,]), nu=1., exploitation_weight=1.)\n",
    "acquisition_function_exploit = output.acquisition_function_GP_UCB_marginalised_mean_flux(np.array([0.95,]), nu=0., exploitation_weight=1.)\n"
   ]
  },
  {
   "cell_type": "code",
   "execution_count": null,
   "metadata": {
    "scrolled": true
   },
   "outputs": [],
   "source": [
    "output[0].acquisition_function_GP_UCB_marginalised_mean_flux(np.array([0.81,]), nu=1., exploitation_weight=None)\n"
   ]
  },
  {
   "cell_type": "code",
   "execution_count": null,
   "metadata": {},
   "outputs": [],
   "source": [
    "print(np.mean(output[0]._get_emulator_error_averaged_mean_flux(np.array([0.81,]))))\n",
    "\n",
    "_ = output[0].likelihood(np.array([0., 0.95, 0.81]))\n",
    "print(np.mean(output[0].emulated_flux_power_std[0]))\n",
    "\n",
    "print(np.mean(output[0].emulated_flux_power_std[0]) / np.mean(output[0].emulated_flux_power[0]))"
   ]
  },
  {
   "cell_type": "code",
   "execution_count": null,
   "metadata": {},
   "outputs": [],
   "source": [
    "output.cur_results.flatchain.shape"
   ]
  },
  {
   "cell_type": "code",
   "execution_count": null,
   "metadata": {},
   "outputs": [],
   "source": [
    "output.cur_results.get_lnprob(np.array([0., 0.95, 0.95]))"
   ]
  },
  {
   "cell_type": "code",
   "execution_count": null,
   "metadata": {},
   "outputs": [],
   "source": [
    "posterior_samples = np.loadtxt('Data/emulator/AA0.97BB1.3_chain_hot_cold_training3_no_rescale2.txt')"
   ]
  },
  {
   "cell_type": "code",
   "execution_count": null,
   "metadata": {},
   "outputs": [],
   "source": [
    "histogram_output = sb.kdeplot(posterior_samples[:, 2]).get_lines()[0].get_data()"
   ]
  },
  {
   "cell_type": "code",
   "execution_count": null,
   "metadata": {},
   "outputs": [],
   "source": [
    "histogram_output = plt.hist(posterior_samples[:, 2], bins='auto', normed=True, histtype='step', log=True)\n",
    "print(histogram_output)\n",
    "plt.axvline(x=0.92)\n"
   ]
  },
  {
   "cell_type": "code",
   "execution_count": null,
   "metadata": {},
   "outputs": [],
   "source": [
    "print(histogram_output[0].shape)\n",
    "print(histogram_output[1].shape)\n",
    "print(histogram_output)"
   ]
  },
  {
   "cell_type": "code",
   "execution_count": null,
   "metadata": {
    "scrolled": true
   },
   "outputs": [],
   "source": [
    "#n_samples = 200\n",
    "parameter_samples = (histogram_output[1][:-1] + histogram_output[1][1:]) / 2. #np.linspace(output[0].param_limits[2, 0], output[0].param_limits[2, 1], num=n_samples)\n",
    "acquisition_function_exploit_array = np.zeros_like(parameter_samples)\n",
    "for i in range(parameter_samples.shape[0]):\n",
    "    acquisition_function_exploit_array[i] = output[0].acquisition_function_GP_UCB_marginalised_mean_flux(np.array([parameter_samples[i],]), nu=1., exploitation_weight=None)\n"
   ]
  },
  {
   "cell_type": "code",
   "execution_count": null,
   "metadata": {
    "scrolled": true
   },
   "outputs": [],
   "source": [
    "#n_samples = 200\n",
    "parameter_samples2 = histogram_output[0] #np.linspace(output[0].param_limits[2, 0], output[0].param_limits[2, 1], num=n_samples)\n",
    "acquisition_function_exploit_array2 = np.zeros_like(parameter_samples2)\n",
    "for i in range(parameter_samples2.shape[0]):\n",
    "    acquisition_function_exploit_array2[i] = output[0].acquisition_function_GP_UCB_marginalised_mean_flux(np.array([parameter_samples2[i],]), nu=1., exploitation_weight=None)\n"
   ]
  },
  {
   "cell_type": "code",
   "execution_count": null,
   "metadata": {},
   "outputs": [],
   "source": [
    "plt.plot(parameter_samples2, np.log(histogram_output[1] / np.max(histogram_output[1])))\n",
    "plt.xlim([0.89, 1.11])\n",
    "plt.ylim([-2.5, 0.1])"
   ]
  },
  {
   "cell_type": "code",
   "execution_count": null,
   "metadata": {},
   "outputs": [],
   "source": [
    "plt.plot(parameter_samples2, 100*acquisition_function_exploit_array2[:parameter_samples2.shape[0]])\n",
    "plt.axvline(x=0.9, color='black', ls=':')\n",
    "plt.axvline(x=1., color='black', ls=':')\n",
    "plt.axvline(x=1.1, color='black', ls=':')\n",
    "plt.xlim([0.89, 1.11])\n",
    "plt.ylim([0., 0.2])"
   ]
  },
  {
   "cell_type": "code",
   "execution_count": null,
   "metadata": {},
   "outputs": [],
   "source": [
    "plt.plot(parameter_samples2, np.log(histogram_output[1] / np.max(histogram_output[1])), label=r'Exploitation term')\n",
    "plt.plot(parameter_samples2, 100*acquisition_function_exploit_array2[:parameter_samples2.shape[0]], label=r'Exploration term')\n",
    "plt.plot(parameter_samples2, np.log(histogram_output[1] / np.max(histogram_output[1])) + 100.*acquisition_function_exploit_array2[:parameter_samples2.shape[0]], label=r'GP-UCB acquisition function')\n",
    "\n",
    "plt.legend(frameon=False)\n",
    "#plt.axvline(x=0.9, color='black', ls=':')\n",
    "plt.axvline(x=0.92, color='blue', ls=':')\n",
    "plt.axvline(x=0.925, color='green', ls=':')\n",
    "#plt.axvline(x=0.95, color='black', ls=':')\n",
    "plt.xlim([0.89, 0.95])\n",
    "plt.ylim([-0.1, 0.2])\n",
    "plt.xlabel(r'heat amp')"
   ]
  },
  {
   "cell_type": "code",
   "execution_count": null,
   "metadata": {},
   "outputs": [],
   "source": [
    "output[0].param_limits[0] = np.array([-0.24, 0.24])\n",
    "print(output[0].param_limits)\n",
    "output[0].log_likelihood_marginalised_mean_flux(np.array([0.95,]), integration_method='Monte-Carlo', integration_options=6000)\n"
   ]
  },
  {
   "cell_type": "code",
   "execution_count": 5,
   "metadata": {},
   "outputs": [
    {
     "name": "stdout",
     "output_type": "stream",
     "text": [
      "<class 'mpmath.calculus.quadrature.GaussLegendre'>\n",
      "[[9.75000000e-01 2.25000000e-09 8.33333333e-02 5.10000000e-01\n",
      "  6.91666667e-01]\n",
      " [9.75000000e-01 2.25000000e-09 8.33333333e-02 6.09000000e-01\n",
      "  6.91666667e-01]\n",
      " [9.75000000e-01 2.25000000e-09 8.33333333e-02 7.08000000e-01\n",
      "  6.91666667e-01]\n",
      " [9.75000000e-01 2.25000000e-09 8.33333333e-02 8.07000000e-01\n",
      "  6.91666667e-01]\n",
      " [9.75000000e-01 2.25000000e-09 8.33333333e-02 9.06000000e-01\n",
      "  6.91666667e-01]\n",
      " [9.75000000e-01 2.25000000e-09 8.33333333e-02 1.00500000e+00\n",
      "  6.91666667e-01]\n",
      " [9.75000000e-01 2.25000000e-09 8.33333333e-02 1.10400000e+00\n",
      "  6.91666667e-01]\n",
      " [9.75000000e-01 2.25000000e-09 8.33333333e-02 1.20300000e+00\n",
      "  6.91666667e-01]\n",
      " [9.75000000e-01 2.25000000e-09 8.33333333e-02 1.30200000e+00\n",
      "  6.91666667e-01]\n",
      " [9.75000000e-01 2.25000000e-09 8.33333333e-02 1.40100000e+00\n",
      "  6.91666667e-01]]\n",
      "Integrating from -0.25 to 0.25 (degree 1 of 6)\n",
      "Integrating from -0.25 to 0.25 (degree 2 of 6)\n",
      "(mpf('4.2442091924111727e-651'), mpf('1.5819695070547836e-651'))\n",
      "No exploitation term\n",
      "Integrating from -0.25 to 0.25 (degree 1 of 6)\n",
      "Integrating from -0.25 to 0.25 (degree 2 of 6)\n",
      "(mpf('1.8831806569935018e-638'), mpf('1.8780363195853043e-638'))\n",
      "No exploitation term\n",
      "Integrating from -0.25 to 0.25 (degree 1 of 6)\n",
      "Integrating from -0.25 to 0.25 (degree 2 of 6)\n",
      "(mpf('5.6176106920823203e-631'), mpf('5.6173383500360306e-631'))\n",
      "No exploitation term\n",
      "Integrating from -0.25 to 0.25 (degree 1 of 6)\n",
      "Integrating from -0.25 to 0.25 (degree 2 of 6)\n",
      "(mpf('1.1904302614385785e-627'), mpf('1.1904246117546156e-627'))\n",
      "No exploitation term\n",
      "Integrating from -0.25 to 0.25 (degree 1 of 6)\n",
      "Integrating from -0.25 to 0.25 (degree 2 of 6)\n",
      "(mpf('5.9501496837122772e-627'), mpf('5.9501355136988683e-627'))\n",
      "No exploitation term\n",
      "Integrating from -0.25 to 0.25 (degree 1 of 6)\n",
      "Integrating from -0.25 to 0.25 (degree 2 of 6)\n",
      "(mpf('2.1475910545827489e-627'), mpf('2.1475805123730732e-627'))\n",
      "No exploitation term\n",
      "Integrating from -0.25 to 0.25 (degree 1 of 6)\n",
      "Integrating from -0.25 to 0.25 (degree 2 of 6)\n",
      "(mpf('6.112143123701031e-628'), mpf('6.1119285584897835e-628'))\n",
      "No exploitation term\n",
      "Integrating from -0.25 to 0.25 (degree 1 of 6)\n",
      "Integrating from -0.25 to 0.25 (degree 2 of 6)\n",
      "(mpf('3.4516748568990802e-628'), mpf('3.44882279967145e-628'))\n",
      "No exploitation term\n",
      "Integrating from -0.25 to 0.25 (degree 1 of 6)\n",
      "Integrating from -0.25 to 0.25 (degree 2 of 6)\n",
      "(mpf('1.8135915074770407e-628'), mpf('1.6953439612047293e-628'))\n",
      "No exploitation term\n",
      "Integrating from -0.25 to 0.25 (degree 1 of 6)\n",
      "Integrating from -0.25 to 0.25 (degree 2 of 6)\n",
      "(mpf('6.541524767460203e-630'), mpf('1.0013968605168817e-628'))\n",
      "No exploitation term\n"
     ]
    }
   ],
   "source": [
    "#output[0].param_limits[0] = np.array([-0.007, 0.007])\n",
    "#output[0].param_limits[1] = np.array([0.948, 0.952])\n",
    "\n",
    "#mmh.dps = 50\n",
    "integration_instance = mmh.calculus.quadrature.GaussLegendre\n",
    "print(integration_instance)\n",
    "\n",
    "likelihood_marginalised = np.zeros(10)\n",
    "exploration_term = np.zeros_like(likelihood_marginalised)\n",
    "#parameter_samples = np.linspace(output[0].param_limits[2, 0] + 0.01, output[0].param_limits[2, 1], num=likelihood_marginalised.shape[0], endpoint=False)\n",
    "#parameter_samples = np.linspace(0.91, 0.93, num=likelihood_marginalised.shape[0])\n",
    "parameter_samples = np.ones((likelihood_marginalised.shape[0], output[0].param_limits.shape[0] - 2)) * np.array([0.975, 2.25e-09, 0.08333333333333326, 0.9166666666666666, 0.6916666666666667])[np.newaxis, :]\n",
    "parameter_samples[:, 3] = np.linspace(output[0].param_limits[5, 0] + 0.01, output[0].param_limits[5, 1], num=likelihood_marginalised.shape[0], endpoint=False)\n",
    "print(parameter_samples)\n",
    "\n",
    "for i in range(likelihood_marginalised.shape[0]):\n",
    "    #parameter_vector = np.array([parameter_samples[i],])\n",
    "    parameter_vector = parameter_samples[i]\n",
    "    #likelihood_marginalised[i] = output[0].log_likelihood_marginalised_mean_flux(np.array([parameter_samples[i],]), integration_method='Quadrature', integration_options=integration_instance)\n",
    "    likelihood_marginalised[i] = output[0].acquisition_function_GP_UCB_marginalised_mean_flux(parameter_vector, nu=0., integration_options='gauss-legendre')\n",
    "    exploration_term[i] = output[0].acquisition_function_GP_UCB_marginalised_mean_flux(parameter_vector, exploitation_weight=None, nu=1.e4)\n"
   ]
  },
  {
   "cell_type": "code",
   "execution_count": 7,
   "metadata": {},
   "outputs": [
    {
     "name": "stdout",
     "output_type": "stream",
     "text": [
      "<class 'mpmath.calculus.quadrature.GaussLegendre'>\n",
      "[[6.10000000e-01 2.25000000e-09 8.33333333e-02 9.16666667e-01\n",
      "  6.91666667e-01]\n",
      " [6.99000000e-01 2.25000000e-09 8.33333333e-02 9.16666667e-01\n",
      "  6.91666667e-01]\n",
      " [7.88000000e-01 2.25000000e-09 8.33333333e-02 9.16666667e-01\n",
      "  6.91666667e-01]\n",
      " [8.77000000e-01 2.25000000e-09 8.33333333e-02 9.16666667e-01\n",
      "  6.91666667e-01]\n",
      " [9.66000000e-01 2.25000000e-09 8.33333333e-02 9.16666667e-01\n",
      "  6.91666667e-01]\n",
      " [1.05500000e+00 2.25000000e-09 8.33333333e-02 9.16666667e-01\n",
      "  6.91666667e-01]\n",
      " [1.14400000e+00 2.25000000e-09 8.33333333e-02 9.16666667e-01\n",
      "  6.91666667e-01]\n",
      " [1.23300000e+00 2.25000000e-09 8.33333333e-02 9.16666667e-01\n",
      "  6.91666667e-01]\n",
      " [1.32200000e+00 2.25000000e-09 8.33333333e-02 9.16666667e-01\n",
      "  6.91666667e-01]\n",
      " [1.41100000e+00 2.25000000e-09 8.33333333e-02 9.16666667e-01\n",
      "  6.91666667e-01]]\n",
      "Integrating from -0.25 to 0.25 (degree 1 of 6)\n",
      "Integrating from -0.25 to 0.25 (degree 2 of 6)\n",
      "(mpf('1.6669123106498175e-994'), mpf('1.6327963728044048e-994'))\n",
      "No exploitation term\n",
      "Integrating from -0.25 to 0.25 (degree 1 of 6)\n",
      "Integrating from -0.25 to 0.25 (degree 2 of 6)\n",
      "(mpf('8.060573952765322e-839'), mpf('8.0546103845507898e-839'))\n",
      "No exploitation term\n",
      "Integrating from -0.25 to 0.25 (degree 1 of 6)\n",
      "Integrating from -0.25 to 0.25 (degree 2 of 6)\n",
      "(mpf('3.6386219693760302e-725'), mpf('3.6386084671874381e-725'))\n",
      "No exploitation term\n",
      "Integrating from -0.25 to 0.25 (degree 1 of 6)\n",
      "Integrating from -0.25 to 0.25 (degree 2 of 6)\n",
      "(mpf('3.6680078666346756e-655'), mpf('3.6680078666346387e-655'))\n",
      "No exploitation term\n",
      "Integrating from -0.25 to 0.25 (degree 1 of 6)\n",
      "Integrating from -0.25 to 0.25 (degree 2 of 6)\n",
      "(mpf('2.994538605065697e-627'), mpf('2.9945376810533976e-627'))\n",
      "No exploitation term\n",
      "Integrating from -0.25 to 0.25 (degree 1 of 6)\n",
      "Integrating from -0.25 to 0.25 (degree 2 of 6)\n",
      "(mpf('1.6290688002807262e-643'), mpf('3.3180276733656584e-640'))\n",
      "No exploitation term\n",
      "Integrating from -0.25 to 0.25 (degree 1 of 6)\n",
      "Integrating from -0.25 to 0.25 (degree 2 of 6)\n",
      "(mpf('7.8194442635726305e-682'), mpf('7.2249157325823175e-682'))\n",
      "No exploitation term\n",
      "Integrating from -0.25 to 0.25 (degree 1 of 6)\n",
      "Integrating from -0.25 to 0.25 (degree 2 of 6)\n",
      "(mpf('2.4807472794912844e-741'), mpf('2.4807472794912547e-741'))\n",
      "No exploitation term\n",
      "Integrating from -0.25 to 0.25 (degree 1 of 6)\n",
      "Integrating from -0.25 to 0.25 (degree 2 of 6)\n",
      "(mpf('2.4140760644481312e-805'), mpf('2.3813447311178246e-805'))\n",
      "No exploitation term\n",
      "Integrating from -0.25 to 0.25 (degree 1 of 6)\n",
      "Integrating from -0.25 to 0.25 (degree 2 of 6)\n",
      "(mpf('6.988240572508932e-871'), mpf('6.5271279783724204e-871'))\n",
      "No exploitation term\n"
     ]
    }
   ],
   "source": [
    "#output[0].param_limits[0] = np.array([-0.007, 0.007])\n",
    "#output[0].param_limits[1] = np.array([0.948, 0.952])\n",
    "\n",
    "parameter_truth = np.array([0.975, 2.25e-09, 0.08333333333333326, 0.9166666666666666, 0.6916666666666667])\n",
    "\n",
    "#mmh.dps = 50\n",
    "integration_instance = mmh.calculus.quadrature.GaussLegendre\n",
    "print(integration_instance)\n",
    "\n",
    "likelihood_marginalised = np.zeros(10)\n",
    "exploration_term = np.zeros_like(likelihood_marginalised)\n",
    "#parameter_samples = np.linspace(output[0].param_limits[2, 0] + 0.01, output[0].param_limits[2, 1], num=likelihood_marginalised.shape[0], endpoint=False)\n",
    "#parameter_samples = np.linspace(0.91, 0.93, num=likelihood_marginalised.shape[0])\n",
    "parameter_samples = np.ones((likelihood_marginalised.shape[0], output[0].param_limits.shape[0] - 2)) * parameter_truth[np.newaxis, :]\n",
    "parameter_variable = 0\n",
    "parameter_samples[:, parameter_variable] = np.linspace(output[0].param_limits[parameter_variable+2, 0] + 0.01, output[0].param_limits[parameter_variable+2, 1], num=likelihood_marginalised.shape[0], endpoint=False)\n",
    "print(parameter_samples)\n",
    "\n",
    "for i in range(likelihood_marginalised.shape[0]):\n",
    "    #parameter_vector = np.array([parameter_samples[i],])\n",
    "    parameter_vector = parameter_samples[i]\n",
    "    #likelihood_marginalised[i] = output[0].log_likelihood_marginalised_mean_flux(np.array([parameter_samples[i],]), integration_method='Quadrature', integration_options=integration_instance)\n",
    "    likelihood_marginalised[i] = output[0].acquisition_function_GP_UCB_marginalised_mean_flux(parameter_vector, nu=0., integration_options='gauss-legendre')\n",
    "    exploration_term[i] = output[0].acquisition_function_GP_UCB_marginalised_mean_flux(parameter_vector, exploitation_weight=None, nu=1.e4)\n"
   ]
  },
  {
   "cell_type": "code",
   "execution_count": null,
   "metadata": {},
   "outputs": [],
   "source": [
    "plt.scatter(parameter_samples, likelihood_marginalised)\n"
   ]
  },
  {
   "cell_type": "code",
   "execution_count": null,
   "metadata": {},
   "outputs": [],
   "source": [
    "plt.scatter(parameter_samples, likelihood_marginalised - np.nanmax(likelihood_marginalised))\n",
    "plt.scatter(parameter_samples, exploration_term, color='red')\n",
    "plt.plot(histogram_output[0], np.log(histogram_output[1] / np.nanmax(histogram_output[1])), color='blue')\n",
    "plt.axvline(x=0.92)\n",
    "plt.xlim([0.89, 0.95])\n",
    "plt.ylim([-0.2, 0.2])"
   ]
  },
  {
   "cell_type": "code",
   "execution_count": 6,
   "metadata": {},
   "outputs": [
    {
     "data": {
      "text/plain": [
       "<matplotlib.lines.Line2D at 0x2b09afa355c0>"
      ]
     },
     "execution_count": 6,
     "metadata": {},
     "output_type": "execute_result"
    },
    {
     "data": {
      "image/png": "[encoded data removed]",
      "text/plain": [
       "<matplotlib.figure.Figure at 0x2b09afa356a0>"
      ]
     },
     "metadata": {},
     "output_type": "display_data"
    }
   ],
   "source": [
    "plt.scatter(parameter_samples[:, 3], likelihood_marginalised - np.nanmax(likelihood_marginalised), color='red')\n",
    "#sb.kdeplot(posterior_samples[:, 2])\n",
    "#plt.plot(histogram_output[0], np.log(histogram_output[1] / np.nanmax(histogram_output[1])))\n",
    "plt.axvline(x=0.9166666666666666, color='black')\n",
    "#plt.xlim([0.905, 0.935])\n",
    "#plt.ylim([-5., 0.2])"
   ]
  },
  {
   "cell_type": "code",
   "execution_count": 8,
   "metadata": {},
   "outputs": [
    {
     "data": {
      "text/plain": [
       "<matplotlib.lines.Line2D at 0x2b092532dcf8>"
      ]
     },
     "execution_count": 8,
     "metadata": {},
     "output_type": "execute_result"
    },
    {
     "data": {
      "image/png": "[encoded data removed]",
      "text/plain": [
       "<matplotlib.figure.Figure at 0x2b092532def0>"
      ]
     },
     "metadata": {},
     "output_type": "display_data"
    }
   ],
   "source": [
    "parameter_truth = np.array([0.975, 2.25e-09, 0.08333333333333326, 0.9166666666666666, 0.6916666666666667])\n",
    "\n",
    "plt.scatter(parameter_samples[:, parameter_variable], likelihood_marginalised - np.nanmax(likelihood_marginalised), color='red')\n",
    "#sb.kdeplot(posterior_samples[:, 2])\n",
    "#plt.plot(histogram_output[0], np.log(histogram_output[1] / np.nanmax(histogram_output[1])))\n",
    "plt.axvline(x=parameter_truth[parameter_variable], color='black')\n",
    "#plt.xlim([0.905, 0.935])\n",
    "#plt.ylim([-5., 0.2])"
   ]
  },
  {
   "cell_type": "code",
   "execution_count": null,
   "metadata": {},
   "outputs": [],
   "source": [
    "plt.scatter(parameter_samples, np.exp(likelihood_marginalised - np.nanmax(likelihood_marginalised)), color='red')\n",
    "#sb.kdeplot(posterior_samples[:, 2])\n",
    "plt.plot(histogram_output[0], histogram_output[1] / np.nanmax(histogram_output[1]))\n",
    "plt.axvline(x=0.92, color='black')\n",
    "plt.xlim([0.8, 1.2])"
   ]
  },
  {
   "cell_type": "code",
   "execution_count": 45,
   "metadata": {},
   "outputs": [
    {
     "name": "stdout",
     "output_type": "stream",
     "text": [
      "[[-2.50e-01  2.50e-01]\n",
      " [ 7.50e-01  1.25e+00]\n",
      " [ 6.00e-01  1.50e+00]\n",
      " [ 1.20e-09  3.00e-09]\n",
      " [-5.00e-01  5.00e-01]\n",
      " [ 5.00e-01  1.50e+00]\n",
      " [ 6.50e-01  7.50e-01]]\n",
      "[[-2.3750e-01  2.3750e-01]\n",
      " [ 7.8750e-01  1.1875e+00]\n",
      " [ 6.3000e-01  1.4250e+00]\n",
      " [ 1.2600e-09  2.8500e-09]\n",
      " [-4.7500e-01  4.7500e-01]\n",
      " [ 5.2500e-01  1.4250e+00]\n",
      " [ 6.8250e-01  7.1250e-01]]\n"
     ]
    }
   ],
   "source": [
    "optimisation_bounds = np.vstack((output[0].param_limits[:,0] + 0.05 * np.absolute(output[0].param_limits[:,0]), output[0].param_limits[:,1] - 0.05 * np.absolute(output[0].param_limits[:,1]))).T\n",
    "print(output[0].param_limits)\n",
    "print(optimisation_bounds)\n"
   ]
  },
  {
   "cell_type": "code",
   "execution_count": 56,
   "metadata": {
    "scrolled": true
   },
   "outputs": [
    {
     "name": "stdout",
     "output_type": "stream",
     "text": [
      "[9.6525e-01 2.2275e-09 8.2500e-02 9.0750e-01 6.8475e-01]\n",
      "Integrating from -0.16 to 0.16 (degree 1 of 6)\n"
     ]
    },
    {
     "name": "stderr",
     "output_type": "stream",
     "text": [
      " /home/keir/Software/lya_emulator/likelihood.py:392: FutureWarning:elementwise comparison failed; returning scalar instead, but in the future will perform elementwise comparison\n"
     ]
    },
    {
     "name": "stdout",
     "output_type": "stream",
     "text": [
      "Integrating from -0.16 to 0.16 (degree 2 of 6)\n",
      "(mpf('4.8677387288569564e-629'), mpf('4.8664592268978383e-629'))\n",
      "Integrating from -0.16 to 0.16 (degree 1 of 6)\n",
      "Integrating from -0.16 to 0.16 (degree 2 of 6)\n",
      "(mpf('4.8677413590327412e-629'), mpf('4.8664618533245766e-629'))\n",
      "Integrating from -0.16 to 0.16 (degree 1 of 6)\n",
      "Integrating from -0.16 to 0.16 (degree 2 of 6)\n",
      "(mpf('0.0'), mpf('0.0'))\n",
      "Integrating from -0.16 to 0.16 (degree 1 of 6)\n",
      "Integrating from -0.16 to 0.16 (degree 2 of 6)\n",
      "(mpf('4.8677500207720415e-629'), mpf('4.8664705202386222e-629'))\n",
      "Integrating from -0.16 to 0.16 (degree 1 of 6)\n",
      "Integrating from -0.16 to 0.16 (degree 2 of 6)\n",
      "(mpf('4.8677395362470466e-629'), mpf('4.8664600339872923e-629'))\n",
      "Integrating from -0.16 to 0.16 (degree 1 of 6)\n",
      "Integrating from -0.16 to 0.16 (degree 2 of 6)\n",
      "(mpf('4.8677923259610848e-629'), mpf('4.8665128354021169e-629'))\n",
      "Integrating from -0.16 to 0.16 (degree 1 of 6)\n",
      "Integrating from -0.16 to 0.16 (degree 2 of 6)\n",
      "(mpf('6.3178194729055563e-947'), mpf('6.9895685570628074e-946'))\n",
      "Integrating from -0.16 to 0.16 (degree 1 of 6)\n",
      "Integrating from -0.16 to 0.16 (degree 2 of 6)\n",
      "(mpf('6.3177957344787535e-947'), mpf('6.9895549866398052e-946'))\n",
      "Integrating from -0.16 to 0.16 (degree 1 of 6)\n",
      "Integrating from -0.16 to 0.16 (degree 2 of 6)\n",
      "(mpf('0.0'), mpf('0.0'))\n",
      "Integrating from -0.16 to 0.16 (degree 1 of 6)\n",
      "Integrating from -0.16 to 0.16 (degree 2 of 6)\n",
      "(mpf('6.3177883804512229e-947'), mpf('6.9895281842004674e-946'))\n",
      "Integrating from -0.16 to 0.16 (degree 1 of 6)\n",
      "Integrating from -0.16 to 0.16 (degree 2 of 6)\n",
      "(mpf('6.3178420582575661e-947'), mpf('6.9895965928029738e-946'))\n",
      "Integrating from -0.16 to 0.16 (degree 1 of 6)\n",
      "Integrating from -0.16 to 0.16 (degree 2 of 6)\n",
      "(mpf('6.3179453340067839e-947'), mpf('6.9896866500786736e-946'))\n",
      "Integrating from -0.16 to 0.16 (degree 1 of 6)\n",
      "Integrating from -0.16 to 0.16 (degree 2 of 6)\n",
      "(mpf('4.8677387288569564e-629'), mpf('4.8664592268978383e-629'))\n",
      "Integrating from -0.16 to 0.16 (degree 1 of 6)\n",
      "Integrating from -0.16 to 0.16 (degree 2 of 6)\n",
      "(mpf('4.8677413590327412e-629'), mpf('4.8664618533245766e-629'))\n",
      "Integrating from -0.16 to 0.16 (degree 1 of 6)\n",
      "Integrating from -0.16 to 0.16 (degree 2 of 6)\n",
      "(mpf('0.0'), mpf('0.0'))\n",
      "Integrating from -0.16 to 0.16 (degree 1 of 6)\n",
      "Integrating from -0.16 to 0.16 (degree 2 of 6)\n",
      "(mpf('4.8677500207720415e-629'), mpf('4.8664705202386222e-629'))\n",
      "Integrating from -0.16 to 0.16 (degree 1 of 6)\n",
      "Integrating from -0.16 to 0.16 (degree 2 of 6)\n",
      "(mpf('4.8677395362470466e-629'), mpf('4.8664600339872923e-629'))\n",
      "Integrating from -0.16 to 0.16 (degree 1 of 6)\n",
      "Integrating from -0.16 to 0.16 (degree 2 of 6)\n",
      "(mpf('4.8677923259610848e-629'), mpf('4.8665128354021169e-629'))\n"
     ]
    }
   ],
   "source": [
    "#random_starting_point = output[0].param_limits[2:, 0] + npr.rand(5) * (output[0].param_limits[2:, 1] - output[0].param_limits[2:, 0])\n",
    "random_starting_point = parameter_truth*0.99\n",
    "print(random_starting_point)\n",
    "\n",
    "integration_bounds = [[-0.16, 0.16], [0.88, 1.02]]\n",
    "\n",
    "acquisition_optimisation = output[0].optimise_acquisition_function(random_starting_point, nu=0., optimisation_bounds=optimisation_bounds[2:], integration_bounds=integration_bounds)\n"
   ]
  },
  {
   "cell_type": "code",
   "execution_count": 57,
   "metadata": {},
   "outputs": [
    {
     "name": "stdout",
     "output_type": "stream",
     "text": [
      "[9.6525e-01 2.2275e-09 8.2500e-02 9.0750e-01 6.8475e-01]\n",
      "True\n",
      "b'CONVERGENCE: REL_REDUCTION_OF_F_<=_FACTR*EPSMCH'\n"
     ]
    }
   ],
   "source": [
    "print(acquisition_optimisation.x)\n",
    "print(acquisition_optimisation.success)\n",
    "print(acquisition_optimisation.message)"
   ]
  },
  {
   "cell_type": "code",
   "execution_count": 58,
   "metadata": {
    "scrolled": true
   },
   "outputs": [
    {
     "data": {
      "text/plain": [
       "array([0., 0., 0., 0., 0.])"
      ]
     },
     "execution_count": 58,
     "metadata": {},
     "output_type": "execute_result"
    }
   ],
   "source": [
    "acquisition_optimisation.x - random_starting_point"
   ]
  },
  {
   "cell_type": "code",
   "execution_count": 36,
   "metadata": {},
   "outputs": [
    {
     "name": "stdout",
     "output_type": "stream",
     "text": [
      "[1.01256025e+00 1.69050793e-09 4.70441331e-01 1.17147366e+00\n",
      " 6.80582448e-01]\n"
     ]
    }
   ],
   "source": [
    "random_starting_point = output[0].param_limits[2:, 0] + npr.rand(5) * (output[0].param_limits[2:, 1] - output[0].param_limits[2:, 0])\n",
    "print(random_starting_point)\n"
   ]
  },
  {
   "cell_type": "code",
   "execution_count": 59,
   "metadata": {},
   "outputs": [
    {
     "name": "stdout",
     "output_type": "stream",
     "text": [
      "Integrating from -0.16 to 0.16 (degree 1 of 6)\n",
      "Integrating from -0.16 to 0.16 (degree 2 of 6)\n",
      "(mpf('1.3329870108762136e-625'), mpf('1.3329037043281474e-625'))\n",
      "-1438.8282608244083\n",
      "Integrating from -0.16 to 0.16 (degree 1 of 6)\n",
      "Integrating from -0.16 to 0.16 (degree 2 of 6)\n",
      "(mpf('4.8677387288569564e-629'), mpf('4.8664592268978383e-629'))\n",
      "-1446.7433939907166\n"
     ]
    }
   ],
   "source": [
    "print(output[0].acquisition_function_GP_UCB_marginalised_mean_flux(parameter_truth, nu=0., integration_bounds=integration_bounds))\n",
    "print(output[0].acquisition_function_GP_UCB_marginalised_mean_flux(parameter_truth*0.99, nu=0., integration_bounds=integration_bounds))\n"
   ]
  },
  {
   "cell_type": "code",
   "execution_count": 41,
   "metadata": {},
   "outputs": [
    {
     "data": {
      "text/plain": [
       "array([9.6525e-01, 2.2275e-09, 8.2500e-02, 9.0750e-01, 6.8475e-01])"
      ]
     },
     "execution_count": 41,
     "metadata": {},
     "output_type": "execute_result"
    }
   ],
   "source": [
    "parameter_truth*0.99"
   ]
  },
  {
   "cell_type": "code",
   "execution_count": 87,
   "metadata": {},
   "outputs": [
    {
     "name": "stdout",
     "output_type": "stream",
     "text": [
      "[-1.59918426e-02  1.24956551e+00  6.81933401e-01  1.91905486e-09\n",
      " -4.98870597e-02  5.33542060e-01  7.46028561e-01]\n",
      "-4983.858110733014\n",
      "[-1.59918326e-02  1.24956551e+00  6.81933401e-01  1.91905486e-09\n",
      " -4.98870597e-02  5.33542060e-01  7.46028561e-01]\n",
      "-4983.858178137894\n",
      "[-1.59918426e-02  1.24956552e+00  6.81933401e-01  1.91905486e-09\n",
      " -4.98870597e-02  5.33542060e-01  7.46028561e-01]\n",
      "-4983.858396446491\n",
      "[-1.59918426e-02  1.24956551e+00  6.81933411e-01  1.91905486e-09\n",
      " -4.98870597e-02  5.33542060e-01  7.46028561e-01]\n",
      "-4983.858109607402\n",
      "[-1.59918426e-02  1.24956551e+00  6.81933401e-01  1.19190549e-08\n",
      " -4.98870597e-02  5.33542060e-01  7.46028561e-01]\n",
      "-inf\n",
      "[-1.59918426e-02  1.24956551e+00  6.81933401e-01  1.91905486e-09\n",
      " -4.98870497e-02  5.33542060e-01  7.46028561e-01]\n",
      "-4983.858024389699\n",
      "[-1.59918426e-02  1.24956551e+00  6.81933401e-01  1.91905486e-09\n",
      " -4.98870597e-02  5.33542070e-01  7.46028561e-01]\n",
      "-4983.858165232625\n",
      "[-1.59918426e-02  1.24956551e+00  6.81933401e-01  1.91905486e-09\n",
      " -4.98870597e-02  5.33542060e-01  7.46028571e-01]\n",
      "-4983.857652355977\n",
      "[-2.5e-01  7.5e-01  1.5e+00  1.2e-09  5.0e-01  5.0e-01  7.5e-01]\n",
      "-inf\n",
      "[-2.4999999e-01  7.5000000e-01  1.5000000e+00  1.2000000e-09\n",
      "  5.0000000e-01  5.0000000e-01  7.5000000e-01]\n",
      "-inf\n",
      "[-2.5000000e-01  7.5000001e-01  1.5000000e+00  1.2000000e-09\n",
      "  5.0000000e-01  5.0000000e-01  7.5000000e-01]\n",
      "-inf\n",
      "[-2.50000000e-01  7.50000000e-01  1.50000001e+00  1.20000000e-09\n",
      "  5.00000000e-01  5.00000000e-01  7.50000000e-01]\n",
      "-inf\n",
      "[-2.50e-01  7.50e-01  1.50e+00  1.12e-08  5.00e-01  5.00e-01  7.50e-01]\n",
      "-inf\n",
      "[-2.5000000e-01  7.5000000e-01  1.5000000e+00  1.2000000e-09\n",
      "  5.0000001e-01  5.0000000e-01  7.5000000e-01]\n",
      "-inf\n",
      "[-2.5000000e-01  7.5000000e-01  1.5000000e+00  1.2000000e-09\n",
      "  5.0000000e-01  5.0000001e-01  7.5000000e-01]\n",
      "-inf\n",
      "[-2.5000000e-01  7.5000000e-01  1.5000000e+00  1.2000000e-09\n",
      "  5.0000000e-01  5.0000000e-01  7.5000001e-01]\n",
      "-inf\n",
      "[-1.59918426e-02  1.24956551e+00  6.81933401e-01  1.91905486e-09\n",
      " -4.98870597e-02  5.33542060e-01  7.46028561e-01]\n",
      "-4983.858110733014\n",
      "[-1.59918326e-02  1.24956551e+00  6.81933401e-01  1.91905486e-09\n",
      " -4.98870597e-02  5.33542060e-01  7.46028561e-01]\n",
      "-4983.858178137894\n",
      "[-1.59918426e-02  1.24956552e+00  6.81933401e-01  1.91905486e-09\n",
      " -4.98870597e-02  5.33542060e-01  7.46028561e-01]\n",
      "-4983.858396446491\n",
      "[-1.59918426e-02  1.24956551e+00  6.81933411e-01  1.91905486e-09\n",
      " -4.98870597e-02  5.33542060e-01  7.46028561e-01]\n",
      "-4983.858109607402\n",
      "[-1.59918426e-02  1.24956551e+00  6.81933401e-01  1.19190549e-08\n",
      " -4.98870597e-02  5.33542060e-01  7.46028561e-01]\n",
      "-inf\n",
      "[-1.59918426e-02  1.24956551e+00  6.81933401e-01  1.91905486e-09\n",
      " -4.98870497e-02  5.33542060e-01  7.46028561e-01]\n",
      "-4983.858024389699\n",
      "[-1.59918426e-02  1.24956551e+00  6.81933401e-01  1.91905486e-09\n",
      " -4.98870597e-02  5.33542070e-01  7.46028561e-01]\n",
      "-4983.858165232625\n",
      "[-1.59918426e-02  1.24956551e+00  6.81933401e-01  1.91905486e-09\n",
      " -4.98870597e-02  5.33542060e-01  7.46028571e-01]\n",
      "-4983.857652355977\n",
      "[-1.47829109e-01  1.25000000e+00  6.00000000e-01  3.00000000e-09\n",
      "  3.57258745e-01  8.08997667e-01  7.50000000e-01]\n",
      "-inf\n",
      "[-1.47829099e-01  1.25000000e+00  6.00000000e-01  3.00000000e-09\n",
      "  3.57258745e-01  8.08997667e-01  7.50000000e-01]\n",
      "-inf\n",
      "[-1.47829109e-01  1.25000001e+00  6.00000000e-01  3.00000000e-09\n",
      "  3.57258745e-01  8.08997667e-01  7.50000000e-01]\n",
      "-inf\n",
      "[-1.47829109e-01  1.25000000e+00  6.00000010e-01  3.00000000e-09\n",
      "  3.57258745e-01  8.08997667e-01  7.50000000e-01]\n",
      "-inf\n",
      "[-1.47829109e-01  1.25000000e+00  6.00000000e-01  1.30000000e-08\n",
      "  3.57258745e-01  8.08997667e-01  7.50000000e-01]\n",
      "-inf\n",
      "[-1.47829109e-01  1.25000000e+00  6.00000000e-01  3.00000000e-09\n",
      "  3.57258755e-01  8.08997667e-01  7.50000000e-01]\n",
      "-inf\n",
      "[-1.47829109e-01  1.25000000e+00  6.00000000e-01  3.00000000e-09\n",
      "  3.57258745e-01  8.08997677e-01  7.50000000e-01]\n",
      "-inf\n",
      "[-1.47829109e-01  1.25000000e+00  6.00000000e-01  3.00000000e-09\n",
      "  3.57258745e-01  8.08997667e-01  7.50000010e-01]\n",
      "-inf\n",
      "[nan nan nan nan nan nan nan]\n"
     ]
    },
    {
     "ename": "AssertionError",
     "evalue": "",
     "output_type": "error",
     "traceback": [
      "\u001b[0;31m---------------------------------------------------------------------------\u001b[0m",
      "\u001b[0;31mAssertionError\u001b[0m                            Traceback (most recent call last)",
      "\u001b[0;32m<ipython-input-87-5419353f2c48>\u001b[0m in \u001b[0;36m<module>\u001b[0;34m()\u001b[0m\n\u001b[1;32m      7\u001b[0m     \u001b[0;32mreturn\u001b[0m \u001b[0;34m-\u001b[0m\u001b[0;36m1.\u001b[0m \u001b[0;34m*\u001b[0m \u001b[0moutput\u001b[0m\u001b[0;34m[\u001b[0m\u001b[0;36m0\u001b[0m\u001b[0;34m]\u001b[0m\u001b[0;34m.\u001b[0m\u001b[0mlikelihood\u001b[0m\u001b[0;34m(\u001b[0m\u001b[0mparameter_vector_mean_flux\u001b[0m\u001b[0;34m)\u001b[0m\u001b[0;34m\u001b[0m\u001b[0m\n\u001b[1;32m      8\u001b[0m \u001b[0;34m\u001b[0m\u001b[0m\n\u001b[0;32m----> 9\u001b[0;31m \u001b[0mlikelihood_optimisation\u001b[0m \u001b[0;34m=\u001b[0m \u001b[0mspo\u001b[0m\u001b[0;34m.\u001b[0m\u001b[0mbasinhopping\u001b[0m\u001b[0;34m(\u001b[0m\u001b[0mlikelihood_function\u001b[0m\u001b[0;34m,\u001b[0m \u001b[0mparameter_truth_mean_flux\u001b[0m\u001b[0;34m,\u001b[0m \u001b[0mminimizer_kwargs\u001b[0m\u001b[0;34m=\u001b[0m\u001b[0;34m{\u001b[0m\u001b[0;34m'bounds'\u001b[0m\u001b[0;34m:\u001b[0m \u001b[0;34m[\u001b[0m\u001b[0mtuple\u001b[0m\u001b[0;34m(\u001b[0m\u001b[0moutput\u001b[0m\u001b[0;34m[\u001b[0m\u001b[0;36m0\u001b[0m\u001b[0;34m]\u001b[0m\u001b[0;34m.\u001b[0m\u001b[0mparam_limits\u001b[0m\u001b[0;34m[\u001b[0m\u001b[0mi\u001b[0m\u001b[0;34m]\u001b[0m\u001b[0;34m)\u001b[0m \u001b[0;32mfor\u001b[0m \u001b[0mi\u001b[0m \u001b[0;32min\u001b[0m \u001b[0mrange\u001b[0m\u001b[0;34m(\u001b[0m\u001b[0;36m7\u001b[0m\u001b[0;34m)\u001b[0m\u001b[0;34m]\u001b[0m\u001b[0;34m,\u001b[0m \u001b[0;34m'method'\u001b[0m\u001b[0;34m:\u001b[0m \u001b[0;34m'L-BFGS-B'\u001b[0m\u001b[0;34m}\u001b[0m\u001b[0;34m)\u001b[0m\u001b[0;34m\u001b[0m\u001b[0m\n\u001b[0m",
      "\u001b[0;32m/share/apps/anaconda/python3.6/lib/python3.6/site-packages/scipy/optimize/_basinhopping.py\u001b[0m in \u001b[0;36mbasinhopping\u001b[0;34m(func, x0, niter, T, stepsize, minimizer_kwargs, take_step, accept_test, callback, interval, disp, niter_success, seed)\u001b[0m\n\u001b[1;32m    640\u001b[0m                \" successfully\"]\n\u001b[1;32m    641\u001b[0m     \u001b[0;32mfor\u001b[0m \u001b[0mi\u001b[0m \u001b[0;32min\u001b[0m \u001b[0mrange\u001b[0m\u001b[0;34m(\u001b[0m\u001b[0mniter\u001b[0m\u001b[0;34m)\u001b[0m\u001b[0;34m:\u001b[0m\u001b[0;34m\u001b[0m\u001b[0m\n\u001b[0;32m--> 642\u001b[0;31m         \u001b[0mnew_global_min\u001b[0m \u001b[0;34m=\u001b[0m \u001b[0mbh\u001b[0m\u001b[0;34m.\u001b[0m\u001b[0mone_cycle\u001b[0m\u001b[0;34m(\u001b[0m\u001b[0;34m)\u001b[0m\u001b[0;34m\u001b[0m\u001b[0m\n\u001b[0m\u001b[1;32m    643\u001b[0m \u001b[0;34m\u001b[0m\u001b[0m\n\u001b[1;32m    644\u001b[0m         \u001b[0;32mif\u001b[0m \u001b[0misinstance\u001b[0m\u001b[0;34m(\u001b[0m\u001b[0mcallback\u001b[0m\u001b[0;34m,\u001b[0m \u001b[0mcollections\u001b[0m\u001b[0;34m.\u001b[0m\u001b[0mCallable\u001b[0m\u001b[0;34m)\u001b[0m\u001b[0;34m:\u001b[0m\u001b[0;34m\u001b[0m\u001b[0m\n",
      "\u001b[0;32m/share/apps/anaconda/python3.6/lib/python3.6/site-packages/scipy/optimize/_basinhopping.py\u001b[0m in \u001b[0;36mone_cycle\u001b[0;34m(self)\u001b[0m\n\u001b[1;32m    149\u001b[0m         \u001b[0mnew_global_min\u001b[0m \u001b[0;34m=\u001b[0m \u001b[0;32mFalse\u001b[0m\u001b[0;34m\u001b[0m\u001b[0m\n\u001b[1;32m    150\u001b[0m \u001b[0;34m\u001b[0m\u001b[0m\n\u001b[0;32m--> 151\u001b[0;31m         \u001b[0maccept\u001b[0m\u001b[0;34m,\u001b[0m \u001b[0mminres\u001b[0m \u001b[0;34m=\u001b[0m \u001b[0mself\u001b[0m\u001b[0;34m.\u001b[0m\u001b[0m_monte_carlo_step\u001b[0m\u001b[0;34m(\u001b[0m\u001b[0;34m)\u001b[0m\u001b[0;34m\u001b[0m\u001b[0m\n\u001b[0m\u001b[1;32m    152\u001b[0m \u001b[0;34m\u001b[0m\u001b[0m\n\u001b[1;32m    153\u001b[0m         \u001b[0;32mif\u001b[0m \u001b[0maccept\u001b[0m\u001b[0;34m:\u001b[0m\u001b[0;34m\u001b[0m\u001b[0m\n",
      "\u001b[0;32m/share/apps/anaconda/python3.6/lib/python3.6/site-packages/scipy/optimize/_basinhopping.py\u001b[0m in \u001b[0;36m_monte_carlo_step\u001b[0;34m(self)\u001b[0m\n\u001b[1;32m    104\u001b[0m \u001b[0;34m\u001b[0m\u001b[0m\n\u001b[1;32m    105\u001b[0m         \u001b[0;31m# do a local minimization\u001b[0m\u001b[0;34m\u001b[0m\u001b[0;34m\u001b[0m\u001b[0m\n\u001b[0;32m--> 106\u001b[0;31m         \u001b[0mminres\u001b[0m \u001b[0;34m=\u001b[0m \u001b[0mself\u001b[0m\u001b[0;34m.\u001b[0m\u001b[0mminimizer\u001b[0m\u001b[0;34m(\u001b[0m\u001b[0mx_after_step\u001b[0m\u001b[0;34m)\u001b[0m\u001b[0;34m\u001b[0m\u001b[0m\n\u001b[0m\u001b[1;32m    107\u001b[0m         \u001b[0mx_after_quench\u001b[0m \u001b[0;34m=\u001b[0m \u001b[0mminres\u001b[0m\u001b[0;34m.\u001b[0m\u001b[0mx\u001b[0m\u001b[0;34m\u001b[0m\u001b[0m\n\u001b[1;32m    108\u001b[0m         \u001b[0menergy_after_quench\u001b[0m \u001b[0;34m=\u001b[0m \u001b[0mminres\u001b[0m\u001b[0;34m.\u001b[0m\u001b[0mfun\u001b[0m\u001b[0;34m\u001b[0m\u001b[0m\n",
      "\u001b[0;32m/share/apps/anaconda/python3.6/lib/python3.6/site-packages/scipy/optimize/_basinhopping.py\u001b[0m in \u001b[0;36m__call__\u001b[0;34m(self, x0)\u001b[0m\n\u001b[1;32m    280\u001b[0m             \u001b[0;32mreturn\u001b[0m \u001b[0mself\u001b[0m\u001b[0;34m.\u001b[0m\u001b[0mminimizer\u001b[0m\u001b[0;34m(\u001b[0m\u001b[0mx0\u001b[0m\u001b[0;34m,\u001b[0m \u001b[0;34m**\u001b[0m\u001b[0mself\u001b[0m\u001b[0;34m.\u001b[0m\u001b[0mkwargs\u001b[0m\u001b[0;34m)\u001b[0m\u001b[0;34m\u001b[0m\u001b[0m\n\u001b[1;32m    281\u001b[0m         \u001b[0;32melse\u001b[0m\u001b[0;34m:\u001b[0m\u001b[0;34m\u001b[0m\u001b[0m\n\u001b[0;32m--> 282\u001b[0;31m             \u001b[0;32mreturn\u001b[0m \u001b[0mself\u001b[0m\u001b[0;34m.\u001b[0m\u001b[0mminimizer\u001b[0m\u001b[0;34m(\u001b[0m\u001b[0mself\u001b[0m\u001b[0;34m.\u001b[0m\u001b[0mfunc\u001b[0m\u001b[0;34m,\u001b[0m \u001b[0mx0\u001b[0m\u001b[0;34m,\u001b[0m \u001b[0;34m**\u001b[0m\u001b[0mself\u001b[0m\u001b[0;34m.\u001b[0m\u001b[0mkwargs\u001b[0m\u001b[0;34m)\u001b[0m\u001b[0;34m\u001b[0m\u001b[0m\n\u001b[0m\u001b[1;32m    283\u001b[0m \u001b[0;34m\u001b[0m\u001b[0m\n\u001b[1;32m    284\u001b[0m \u001b[0;34m\u001b[0m\u001b[0m\n",
      "\u001b[0;32m/share/apps/anaconda/python3.6/lib/python3.6/site-packages/scipy/optimize/_minimize.py\u001b[0m in \u001b[0;36mminimize\u001b[0;34m(fun, x0, args, method, jac, hess, hessp, bounds, constraints, tol, callback, options)\u001b[0m\n\u001b[1;32m    485\u001b[0m     \u001b[0;32melif\u001b[0m \u001b[0mmeth\u001b[0m \u001b[0;34m==\u001b[0m \u001b[0;34m'l-bfgs-b'\u001b[0m\u001b[0;34m:\u001b[0m\u001b[0;34m\u001b[0m\u001b[0m\n\u001b[1;32m    486\u001b[0m         return _minimize_lbfgsb(fun, x0, args, jac, bounds,\n\u001b[0;32m--> 487\u001b[0;31m                                 callback=callback, **options)\n\u001b[0m\u001b[1;32m    488\u001b[0m     \u001b[0;32melif\u001b[0m \u001b[0mmeth\u001b[0m \u001b[0;34m==\u001b[0m \u001b[0;34m'tnc'\u001b[0m\u001b[0;34m:\u001b[0m\u001b[0;34m\u001b[0m\u001b[0m\n\u001b[1;32m    489\u001b[0m         return _minimize_tnc(fun, x0, args, jac, bounds, callback=callback,\n",
      "\u001b[0;32m/share/apps/anaconda/python3.6/lib/python3.6/site-packages/scipy/optimize/lbfgsb.py\u001b[0m in \u001b[0;36m_minimize_lbfgsb\u001b[0;34m(fun, x0, args, jac, bounds, disp, maxcor, ftol, gtol, eps, maxfun, maxiter, iprint, callback, maxls, **unknown_options)\u001b[0m\n\u001b[1;32m    333\u001b[0m             \u001b[0;31m# until the completion of the current minimization iteration.\u001b[0m\u001b[0;34m\u001b[0m\u001b[0;34m\u001b[0m\u001b[0m\n\u001b[1;32m    334\u001b[0m             \u001b[0;31m# Overwrite f and g:\u001b[0m\u001b[0;34m\u001b[0m\u001b[0;34m\u001b[0m\u001b[0m\n\u001b[0;32m--> 335\u001b[0;31m             \u001b[0mf\u001b[0m\u001b[0;34m,\u001b[0m \u001b[0mg\u001b[0m \u001b[0;34m=\u001b[0m \u001b[0mfunc_and_grad\u001b[0m\u001b[0;34m(\u001b[0m\u001b[0mx\u001b[0m\u001b[0;34m)\u001b[0m\u001b[0;34m\u001b[0m\u001b[0m\n\u001b[0m\u001b[1;32m    336\u001b[0m         \u001b[0;32melif\u001b[0m \u001b[0mtask_str\u001b[0m\u001b[0;34m.\u001b[0m\u001b[0mstartswith\u001b[0m\u001b[0;34m(\u001b[0m\u001b[0;34mb'NEW_X'\u001b[0m\u001b[0;34m)\u001b[0m\u001b[0;34m:\u001b[0m\u001b[0;34m\u001b[0m\u001b[0m\n\u001b[1;32m    337\u001b[0m             \u001b[0;31m# new iteration\u001b[0m\u001b[0;34m\u001b[0m\u001b[0;34m\u001b[0m\u001b[0m\n",
      "\u001b[0;32m/share/apps/anaconda/python3.6/lib/python3.6/site-packages/scipy/optimize/lbfgsb.py\u001b[0m in \u001b[0;36mfunc_and_grad\u001b[0;34m(x)\u001b[0m\n\u001b[1;32m    278\u001b[0m     \u001b[0;32mif\u001b[0m \u001b[0mjac\u001b[0m \u001b[0;32mis\u001b[0m \u001b[0;32mNone\u001b[0m\u001b[0;34m:\u001b[0m\u001b[0;34m\u001b[0m\u001b[0m\n\u001b[1;32m    279\u001b[0m         \u001b[0;32mdef\u001b[0m \u001b[0mfunc_and_grad\u001b[0m\u001b[0;34m(\u001b[0m\u001b[0mx\u001b[0m\u001b[0;34m)\u001b[0m\u001b[0;34m:\u001b[0m\u001b[0;34m\u001b[0m\u001b[0m\n\u001b[0;32m--> 280\u001b[0;31m             \u001b[0mf\u001b[0m \u001b[0;34m=\u001b[0m \u001b[0mfun\u001b[0m\u001b[0;34m(\u001b[0m\u001b[0mx\u001b[0m\u001b[0;34m,\u001b[0m \u001b[0;34m*\u001b[0m\u001b[0margs\u001b[0m\u001b[0;34m)\u001b[0m\u001b[0;34m\u001b[0m\u001b[0m\n\u001b[0m\u001b[1;32m    281\u001b[0m             \u001b[0mg\u001b[0m \u001b[0;34m=\u001b[0m \u001b[0m_approx_fprime_helper\u001b[0m\u001b[0;34m(\u001b[0m\u001b[0mx\u001b[0m\u001b[0;34m,\u001b[0m \u001b[0mfun\u001b[0m\u001b[0;34m,\u001b[0m \u001b[0mepsilon\u001b[0m\u001b[0;34m,\u001b[0m \u001b[0margs\u001b[0m\u001b[0;34m=\u001b[0m\u001b[0margs\u001b[0m\u001b[0;34m,\u001b[0m \u001b[0mf0\u001b[0m\u001b[0;34m=\u001b[0m\u001b[0mf\u001b[0m\u001b[0;34m)\u001b[0m\u001b[0;34m\u001b[0m\u001b[0m\n\u001b[1;32m    282\u001b[0m             \u001b[0;32mreturn\u001b[0m \u001b[0mf\u001b[0m\u001b[0;34m,\u001b[0m \u001b[0mg\u001b[0m\u001b[0;34m\u001b[0m\u001b[0m\n",
      "\u001b[0;32m/share/apps/anaconda/python3.6/lib/python3.6/site-packages/scipy/optimize/optimize.py\u001b[0m in \u001b[0;36mfunction_wrapper\u001b[0;34m(*wrapper_args)\u001b[0m\n\u001b[1;32m    290\u001b[0m     \u001b[0;32mdef\u001b[0m \u001b[0mfunction_wrapper\u001b[0m\u001b[0;34m(\u001b[0m\u001b[0;34m*\u001b[0m\u001b[0mwrapper_args\u001b[0m\u001b[0;34m)\u001b[0m\u001b[0;34m:\u001b[0m\u001b[0;34m\u001b[0m\u001b[0m\n\u001b[1;32m    291\u001b[0m         \u001b[0mncalls\u001b[0m\u001b[0;34m[\u001b[0m\u001b[0;36m0\u001b[0m\u001b[0;34m]\u001b[0m \u001b[0;34m+=\u001b[0m \u001b[0;36m1\u001b[0m\u001b[0;34m\u001b[0m\u001b[0m\n\u001b[0;32m--> 292\u001b[0;31m         \u001b[0;32mreturn\u001b[0m \u001b[0mfunction\u001b[0m\u001b[0;34m(\u001b[0m\u001b[0;34m*\u001b[0m\u001b[0;34m(\u001b[0m\u001b[0mwrapper_args\u001b[0m \u001b[0;34m+\u001b[0m \u001b[0margs\u001b[0m\u001b[0;34m)\u001b[0m\u001b[0;34m)\u001b[0m\u001b[0;34m\u001b[0m\u001b[0m\n\u001b[0m\u001b[1;32m    293\u001b[0m \u001b[0;34m\u001b[0m\u001b[0m\n\u001b[1;32m    294\u001b[0m     \u001b[0;32mreturn\u001b[0m \u001b[0mncalls\u001b[0m\u001b[0;34m,\u001b[0m \u001b[0mfunction_wrapper\u001b[0m\u001b[0;34m\u001b[0m\u001b[0m\n",
      "\u001b[0;32m<ipython-input-87-5419353f2c48>\u001b[0m in \u001b[0;36mlikelihood_function\u001b[0;34m(parameter_vector_mean_flux)\u001b[0m\n\u001b[1;32m      4\u001b[0m \u001b[0;32mdef\u001b[0m \u001b[0mlikelihood_function\u001b[0m\u001b[0;34m(\u001b[0m\u001b[0mparameter_vector_mean_flux\u001b[0m\u001b[0;34m)\u001b[0m\u001b[0;34m:\u001b[0m\u001b[0;34m\u001b[0m\u001b[0m\n\u001b[1;32m      5\u001b[0m     \u001b[0mprint\u001b[0m\u001b[0;34m(\u001b[0m\u001b[0mparameter_vector_mean_flux\u001b[0m\u001b[0;34m)\u001b[0m\u001b[0;34m\u001b[0m\u001b[0m\n\u001b[0;32m----> 6\u001b[0;31m     \u001b[0mprint\u001b[0m\u001b[0;34m(\u001b[0m\u001b[0moutput\u001b[0m\u001b[0;34m[\u001b[0m\u001b[0;36m0\u001b[0m\u001b[0;34m]\u001b[0m\u001b[0;34m.\u001b[0m\u001b[0mlikelihood\u001b[0m\u001b[0;34m(\u001b[0m\u001b[0mparameter_vector_mean_flux\u001b[0m\u001b[0;34m)\u001b[0m\u001b[0;34m)\u001b[0m\u001b[0;34m\u001b[0m\u001b[0m\n\u001b[0m\u001b[1;32m      7\u001b[0m     \u001b[0;32mreturn\u001b[0m \u001b[0;34m-\u001b[0m\u001b[0;36m1.\u001b[0m \u001b[0;34m*\u001b[0m \u001b[0moutput\u001b[0m\u001b[0;34m[\u001b[0m\u001b[0;36m0\u001b[0m\u001b[0;34m]\u001b[0m\u001b[0;34m.\u001b[0m\u001b[0mlikelihood\u001b[0m\u001b[0;34m(\u001b[0m\u001b[0mparameter_vector_mean_flux\u001b[0m\u001b[0;34m)\u001b[0m\u001b[0;34m\u001b[0m\u001b[0m\n\u001b[1;32m      8\u001b[0m \u001b[0;34m\u001b[0m\u001b[0m\n",
      "\u001b[0;32m~/Software/lya_emulator/likelihood.py\u001b[0m in \u001b[0;36mlikelihood\u001b[0;34m(self, params, include_emu)\u001b[0m\n\u001b[1;32m    141\u001b[0m         \u001b[0;31m# .predict should take [{list of parameters: t0; cosmo.; thermal},]\u001b[0m\u001b[0;34m\u001b[0m\u001b[0;34m\u001b[0m\u001b[0m\n\u001b[1;32m    142\u001b[0m         \u001b[0;31m# Here: emulating @ cosmo.; thermal; sampled t0 * [tau0_fac from above]\u001b[0m\u001b[0;34m\u001b[0m\u001b[0;34m\u001b[0m\u001b[0m\n\u001b[0;32m--> 143\u001b[0;31m         \u001b[0mpredicted\u001b[0m\u001b[0;34m,\u001b[0m \u001b[0mstd\u001b[0m \u001b[0;34m=\u001b[0m \u001b[0mself\u001b[0m\u001b[0;34m.\u001b[0m\u001b[0mgpemu\u001b[0m\u001b[0;34m.\u001b[0m\u001b[0mpredict\u001b[0m\u001b[0;34m(\u001b[0m\u001b[0mnp\u001b[0m\u001b[0;34m.\u001b[0m\u001b[0marray\u001b[0m\u001b[0;34m(\u001b[0m\u001b[0mnparams\u001b[0m\u001b[0;34m)\u001b[0m\u001b[0;34m.\u001b[0m\u001b[0mreshape\u001b[0m\u001b[0;34m(\u001b[0m\u001b[0;36m1\u001b[0m\u001b[0;34m,\u001b[0m\u001b[0;34m-\u001b[0m\u001b[0;36m1\u001b[0m\u001b[0;34m)\u001b[0m\u001b[0;34m,\u001b[0m \u001b[0mtau0_factors\u001b[0m \u001b[0;34m=\u001b[0m \u001b[0mtau0_fac\u001b[0m\u001b[0;34m)\u001b[0m\u001b[0;34m\u001b[0m\u001b[0m\n\u001b[0m\u001b[1;32m    144\u001b[0m \u001b[0;34m\u001b[0m\u001b[0m\n\u001b[1;32m    145\u001b[0m         \u001b[0;31m#Save emulated flux power specra for analysis\u001b[0m\u001b[0;34m\u001b[0m\u001b[0;34m\u001b[0m\u001b[0m\n",
      "\u001b[0;32m~/Software/lya_emulator/gpemulator.py\u001b[0m in \u001b[0;36mpredict\u001b[0;34m(self, params, tau0_factors)\u001b[0m\n\u001b[1;32m     34\u001b[0m             \u001b[0;32mif\u001b[0m \u001b[0mtau0_factors\u001b[0m \u001b[0;32mis\u001b[0m \u001b[0;32mnot\u001b[0m \u001b[0;32mNone\u001b[0m\u001b[0;34m:\u001b[0m\u001b[0;34m\u001b[0m\u001b[0m\n\u001b[1;32m     35\u001b[0m                 \u001b[0mzparams\u001b[0m\u001b[0;34m[\u001b[0m\u001b[0;36m0\u001b[0m\u001b[0;34m]\u001b[0m\u001b[0;34m[\u001b[0m\u001b[0;36m0\u001b[0m\u001b[0;34m]\u001b[0m \u001b[0;34m*=\u001b[0m \u001b[0mtau0_factors\u001b[0m\u001b[0;34m[\u001b[0m\u001b[0mi\u001b[0m\u001b[0;34m]\u001b[0m \u001b[0;31m#Multiplying t0[z] by \"tau0_factors\"[z]\u001b[0m\u001b[0;34m\u001b[0m\u001b[0m\n\u001b[0;32m---> 36\u001b[0;31m             \u001b[0;34m(\u001b[0m\u001b[0mm\u001b[0m\u001b[0;34m,\u001b[0m \u001b[0ms\u001b[0m\u001b[0;34m)\u001b[0m \u001b[0;34m=\u001b[0m \u001b[0mgp\u001b[0m\u001b[0;34m.\u001b[0m\u001b[0mpredict\u001b[0m\u001b[0;34m(\u001b[0m\u001b[0mzparams\u001b[0m\u001b[0;34m)\u001b[0m\u001b[0;34m\u001b[0m\u001b[0m\n\u001b[0m\u001b[1;32m     37\u001b[0m             \u001b[0mmeans\u001b[0m\u001b[0;34m[\u001b[0m\u001b[0;36m0\u001b[0m\u001b[0;34m,\u001b[0m\u001b[0mi\u001b[0m\u001b[0;34m*\u001b[0m\u001b[0mself\u001b[0m\u001b[0;34m.\u001b[0m\u001b[0mnk\u001b[0m\u001b[0;34m:\u001b[0m\u001b[0;34m(\u001b[0m\u001b[0mi\u001b[0m\u001b[0;34m+\u001b[0m\u001b[0;36m1\u001b[0m\u001b[0;34m)\u001b[0m\u001b[0;34m*\u001b[0m\u001b[0mself\u001b[0m\u001b[0;34m.\u001b[0m\u001b[0mnk\u001b[0m\u001b[0;34m]\u001b[0m \u001b[0;34m=\u001b[0m \u001b[0mm\u001b[0m\u001b[0;34m\u001b[0m\u001b[0m\n\u001b[1;32m     38\u001b[0m             \u001b[0mstd\u001b[0m\u001b[0;34m[\u001b[0m\u001b[0;34m:\u001b[0m\u001b[0;34m,\u001b[0m\u001b[0mi\u001b[0m\u001b[0;34m*\u001b[0m\u001b[0mself\u001b[0m\u001b[0;34m.\u001b[0m\u001b[0mnk\u001b[0m\u001b[0;34m:\u001b[0m\u001b[0;34m(\u001b[0m\u001b[0mi\u001b[0m\u001b[0;34m+\u001b[0m\u001b[0;36m1\u001b[0m\u001b[0;34m)\u001b[0m\u001b[0;34m*\u001b[0m\u001b[0mself\u001b[0m\u001b[0;34m.\u001b[0m\u001b[0mnk\u001b[0m\u001b[0;34m]\u001b[0m \u001b[0;34m=\u001b[0m \u001b[0ms\u001b[0m\u001b[0;34m\u001b[0m\u001b[0m\n",
      "\u001b[0;32m~/Software/lya_emulator/gpemulator.py\u001b[0m in \u001b[0;36mpredict\u001b[0;34m(self, params)\u001b[0m\n\u001b[1;32m    126\u001b[0m         \u001b[0;34m\"\"\"Get the predicted flux at a parameter value (or list of parameter values).\"\"\"\u001b[0m\u001b[0;34m\u001b[0m\u001b[0m\n\u001b[1;32m    127\u001b[0m         \u001b[0;31m#Map the parameters onto a unit cube so that all the variations are similar in magnitude\u001b[0m\u001b[0;34m\u001b[0m\u001b[0;34m\u001b[0m\u001b[0m\n\u001b[0;32m--> 128\u001b[0;31m         \u001b[0mparams_cube\u001b[0m \u001b[0;34m=\u001b[0m \u001b[0mnp\u001b[0m\u001b[0;34m.\u001b[0m\u001b[0marray\u001b[0m\u001b[0;34m(\u001b[0m\u001b[0;34m[\u001b[0m\u001b[0mmap_to_unit_cube\u001b[0m\u001b[0;34m(\u001b[0m\u001b[0mpp\u001b[0m\u001b[0;34m,\u001b[0m \u001b[0mself\u001b[0m\u001b[0;34m.\u001b[0m\u001b[0mparam_limits\u001b[0m\u001b[0;34m)\u001b[0m \u001b[0;32mfor\u001b[0m \u001b[0mpp\u001b[0m \u001b[0;32min\u001b[0m \u001b[0mparams\u001b[0m\u001b[0;34m]\u001b[0m\u001b[0;34m)\u001b[0m\u001b[0;34m\u001b[0m\u001b[0m\n\u001b[0m\u001b[1;32m    129\u001b[0m         \u001b[0mflux_predict\u001b[0m\u001b[0;34m,\u001b[0m \u001b[0mvar\u001b[0m \u001b[0;34m=\u001b[0m \u001b[0mself\u001b[0m\u001b[0;34m.\u001b[0m\u001b[0mgp\u001b[0m\u001b[0;34m.\u001b[0m\u001b[0mpredict\u001b[0m\u001b[0;34m(\u001b[0m\u001b[0mparams_cube\u001b[0m\u001b[0;34m)\u001b[0m\u001b[0;34m\u001b[0m\u001b[0m\n\u001b[1;32m    130\u001b[0m         \u001b[0mmean\u001b[0m \u001b[0;34m=\u001b[0m \u001b[0;34m(\u001b[0m\u001b[0mflux_predict\u001b[0m\u001b[0;34m+\u001b[0m\u001b[0;36m1\u001b[0m\u001b[0;34m)\u001b[0m\u001b[0;34m*\u001b[0m\u001b[0mself\u001b[0m\u001b[0;34m.\u001b[0m\u001b[0mscalefactors\u001b[0m\u001b[0;34m\u001b[0m\u001b[0m\n",
      "\u001b[0;32m~/Software/lya_emulator/gpemulator.py\u001b[0m in \u001b[0;36m<listcomp>\u001b[0;34m(.0)\u001b[0m\n\u001b[1;32m    126\u001b[0m         \u001b[0;34m\"\"\"Get the predicted flux at a parameter value (or list of parameter values).\"\"\"\u001b[0m\u001b[0;34m\u001b[0m\u001b[0m\n\u001b[1;32m    127\u001b[0m         \u001b[0;31m#Map the parameters onto a unit cube so that all the variations are similar in magnitude\u001b[0m\u001b[0;34m\u001b[0m\u001b[0;34m\u001b[0m\u001b[0m\n\u001b[0;32m--> 128\u001b[0;31m         \u001b[0mparams_cube\u001b[0m \u001b[0;34m=\u001b[0m \u001b[0mnp\u001b[0m\u001b[0;34m.\u001b[0m\u001b[0marray\u001b[0m\u001b[0;34m(\u001b[0m\u001b[0;34m[\u001b[0m\u001b[0mmap_to_unit_cube\u001b[0m\u001b[0;34m(\u001b[0m\u001b[0mpp\u001b[0m\u001b[0;34m,\u001b[0m \u001b[0mself\u001b[0m\u001b[0;34m.\u001b[0m\u001b[0mparam_limits\u001b[0m\u001b[0;34m)\u001b[0m \u001b[0;32mfor\u001b[0m \u001b[0mpp\u001b[0m \u001b[0;32min\u001b[0m \u001b[0mparams\u001b[0m\u001b[0;34m]\u001b[0m\u001b[0;34m)\u001b[0m\u001b[0;34m\u001b[0m\u001b[0m\n\u001b[0m\u001b[1;32m    129\u001b[0m         \u001b[0mflux_predict\u001b[0m\u001b[0;34m,\u001b[0m \u001b[0mvar\u001b[0m \u001b[0;34m=\u001b[0m \u001b[0mself\u001b[0m\u001b[0;34m.\u001b[0m\u001b[0mgp\u001b[0m\u001b[0;34m.\u001b[0m\u001b[0mpredict\u001b[0m\u001b[0;34m(\u001b[0m\u001b[0mparams_cube\u001b[0m\u001b[0;34m)\u001b[0m\u001b[0;34m\u001b[0m\u001b[0m\n\u001b[1;32m    130\u001b[0m         \u001b[0mmean\u001b[0m \u001b[0;34m=\u001b[0m \u001b[0;34m(\u001b[0m\u001b[0mflux_predict\u001b[0m\u001b[0;34m+\u001b[0m\u001b[0;36m1\u001b[0m\u001b[0;34m)\u001b[0m\u001b[0;34m*\u001b[0m\u001b[0mself\u001b[0m\u001b[0;34m.\u001b[0m\u001b[0mscalefactors\u001b[0m\u001b[0;34m\u001b[0m\u001b[0m\n",
      "\u001b[0;32m~/Software/lya_emulator/latin_hypercube.py\u001b[0m in \u001b[0;36mmap_to_unit_cube\u001b[0;34m(param_vec, param_limits)\u001b[0m\n\u001b[1;32m    143\u001b[0m     \"\"\"\n\u001b[1;32m    144\u001b[0m     \u001b[0;32massert\u001b[0m \u001b[0;34m(\u001b[0m\u001b[0mnp\u001b[0m\u001b[0;34m.\u001b[0m\u001b[0msize\u001b[0m\u001b[0;34m(\u001b[0m\u001b[0mparam_vec\u001b[0m\u001b[0;34m)\u001b[0m\u001b[0;34m,\u001b[0m\u001b[0;36m2\u001b[0m\u001b[0;34m)\u001b[0m \u001b[0;34m==\u001b[0m \u001b[0mnp\u001b[0m\u001b[0;34m.\u001b[0m\u001b[0mshape\u001b[0m\u001b[0;34m(\u001b[0m\u001b[0mparam_limits\u001b[0m\u001b[0;34m)\u001b[0m\u001b[0;34m\u001b[0m\u001b[0m\n\u001b[0;32m--> 145\u001b[0;31m     \u001b[0;32massert\u001b[0m \u001b[0mnp\u001b[0m\u001b[0;34m.\u001b[0m\u001b[0mall\u001b[0m\u001b[0;34m(\u001b[0m\u001b[0mparam_vec\u001b[0m\u001b[0;34m-\u001b[0m\u001b[0;36m1e-16\u001b[0m \u001b[0;34m<=\u001b[0m \u001b[0mparam_limits\u001b[0m\u001b[0;34m[\u001b[0m\u001b[0;34m:\u001b[0m\u001b[0;34m,\u001b[0m\u001b[0;36m1\u001b[0m\u001b[0;34m]\u001b[0m\u001b[0;34m)\u001b[0m\u001b[0;34m\u001b[0m\u001b[0m\n\u001b[0m\u001b[1;32m    146\u001b[0m     \u001b[0;32massert\u001b[0m \u001b[0mnp\u001b[0m\u001b[0;34m.\u001b[0m\u001b[0mall\u001b[0m\u001b[0;34m(\u001b[0m\u001b[0mparam_vec\u001b[0m\u001b[0;34m+\u001b[0m\u001b[0;36m1e-16\u001b[0m \u001b[0;34m>=\u001b[0m \u001b[0mparam_limits\u001b[0m\u001b[0;34m[\u001b[0m\u001b[0;34m:\u001b[0m\u001b[0;34m,\u001b[0m\u001b[0;36m0\u001b[0m\u001b[0;34m]\u001b[0m\u001b[0;34m)\u001b[0m\u001b[0;34m\u001b[0m\u001b[0m\n\u001b[1;32m    147\u001b[0m     \u001b[0mii\u001b[0m \u001b[0;34m=\u001b[0m \u001b[0mnp\u001b[0m\u001b[0;34m.\u001b[0m\u001b[0mwhere\u001b[0m\u001b[0;34m(\u001b[0m\u001b[0mparam_vec\u001b[0m \u001b[0;34m>\u001b[0m \u001b[0mparam_limits\u001b[0m\u001b[0;34m[\u001b[0m\u001b[0;34m:\u001b[0m\u001b[0;34m,\u001b[0m\u001b[0;36m1\u001b[0m\u001b[0;34m]\u001b[0m\u001b[0;34m)\u001b[0m\u001b[0;34m\u001b[0m\u001b[0m\n",
      "\u001b[0;31mAssertionError\u001b[0m: "
     ]
    }
   ],
   "source": [
    "#parameter_truth_mean_flux = np.array([0., 0.95, 0.975, 2.25e-09, 0.08333333333333326, 0.9166666666666666, 0.6916666666666667])\n",
    "parameter_truth_mean_flux = output[0].param_limits[:, 0] + npr.rand(7) * (output[0].param_limits[:, 1] - output[0].param_limits[:, 0])\n",
    "\n",
    "def likelihood_function(parameter_vector_mean_flux):\n",
    "    print(parameter_vector_mean_flux)\n",
    "    print(output[0].likelihood(parameter_vector_mean_flux))\n",
    "    return -1. * output[0].likelihood(parameter_vector_mean_flux)\n",
    "\n",
    "likelihood_optimisation = spo.basinhopping(likelihood_function, parameter_truth_mean_flux, minimizer_kwargs={'bounds': [tuple(output[0].param_limits[i]) for i in range(7)], 'method': 'L-BFGS-B'})\n"
   ]
  },
  {
   "cell_type": "code",
   "execution_count": 81,
   "metadata": {},
   "outputs": [
    {
     "name": "stdout",
     "output_type": "stream",
     "text": [
      "[4.52544122e-03 9.62113198e-01 7.01434517e-01 2.85763321e-09\n",
      " 2.85108637e-01 1.00409233e+00 7.35849838e-01] -2261.913676512134\n",
      "2261.913676512134\n",
      "[0.00000000e+00 9.50000000e-01 9.75000000e-01 2.25000000e-09\n",
      " 8.33333333e-02 9.16666667e-01 6.91666667e-01] -1433.0701952056331\n",
      "1433.0701952056331\n",
      "[4.52544122e-03 9.62113198e-01 7.01434517e-01 2.85763321e-09\n",
      " 2.85108637e-01 1.00409233e+00 7.35849838e-01] True b'CONVERGENCE: REL_REDUCTION_OF_F_<=_FACTR*EPSMCH'\n",
      "[0. 0. 0. 0. 0. 0. 0.]\n"
     ]
    }
   ],
   "source": [
    "print(likelihood_function(parameter_truth_mean_flux))\n",
    "print(likelihood_function(np.array([0., 0.95, 0.975, 2.25e-09, 0.08333333333333326, 0.9166666666666666, 0.6916666666666667])))\n",
    "\n",
    "print(likelihood_optimisation.x, likelihood_optimisation.success, likelihood_optimisation.message)\n",
    "print(likelihood_optimisation.x - parameter_truth_mean_flux)\n"
   ]
  },
  {
   "cell_type": "code",
   "execution_count": null,
   "metadata": {},
   "outputs": [],
   "source": []
  }
 ],
 "metadata": {
  "kernelspec": {
   "display_name": "Python 3",
   "language": "python",
   "name": "python3"
  },
  "language_info": {
   "codemirror_mode": {
    "name": "ipython",
    "version": 3
   },
   "file_extension": ".py",
   "mimetype": "text/x-python",
   "name": "python",
   "nbconvert_exporter": "python",
   "pygments_lexer": "ipython3",
   "version": "3.6.4"
  }
 },
 "nbformat": 4,
 "nbformat_minor": 2
}
